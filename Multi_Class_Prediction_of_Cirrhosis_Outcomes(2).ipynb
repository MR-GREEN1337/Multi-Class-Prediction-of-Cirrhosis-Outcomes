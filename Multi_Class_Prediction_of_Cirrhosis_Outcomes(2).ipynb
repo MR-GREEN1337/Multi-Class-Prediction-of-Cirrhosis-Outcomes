{
  "cells": [
    {
      "cell_type": "code",
      "execution_count": 35,
      "metadata": {
        "id": "jYjMRckGUlLA"
      },
      "outputs": [],
      "source": [
        "!pip install -q pycaret optuna"
      ]
    },
    {
      "cell_type": "markdown",
      "metadata": {
        "id": "m0MuOL-knZgb"
      },
      "source": [
        "##Importing necessary libraries"
      ]
    },
    {
      "cell_type": "code",
      "execution_count": 86,
      "metadata": {
        "id": "ZPq_sHRUUG4G"
      },
      "outputs": [],
      "source": [
        "import pandas as pd\n",
        "import numpy as np\n",
        "\n",
        "import matplotlib.pyplot as plt\n",
        "import scipy\n",
        "import seaborn as sns\n",
        "\n",
        "%matplotlib inline\n",
        "\n",
        "from sklearn.preprocessing import OneHotEncoder,LabelEncoder, MinMaxScaler\n",
        "from pycaret.regression import setup, compare_models\n",
        "\n",
        "from lightgbm import LGBMClassifier\n",
        "from sklearn.ensemble import GradientBoostingClassifier, ExtraTreesClassifier, StackingClassifier, RandomForestClassifier\n",
        "from sklearn.linear_model import LogisticRegression, Lasso\n",
        "from sklearn.svm import SVC\n",
        "from sklearn.neural_network import MLPClassifier\n",
        "from sklearn.metrics import log_loss\n",
        "\n",
        "from optuna import create_study"
      ]
    },
    {
      "cell_type": "markdown",
      "metadata": {
        "id": "tfbWXzp2nlc1"
      },
      "source": [
        "##Load + partition"
      ]
    },
    {
      "cell_type": "code",
      "execution_count": 37,
      "metadata": {
        "colab": {
          "base_uri": "https://localhost:8080/"
        },
        "id": "0G3xM-9FUklg",
        "outputId": "1a6be737-d888-4ea7-a90f-42d7c923237c"
      },
      "outputs": [
        {
          "name": "stdout",
          "output_type": "stream",
          "text": [
            "Archive:  /content/playground-series-s3e26.zip\n",
            "replace sample_submission.csv? [y]es, [n]o, [A]ll, [N]one, [r]ename: "
          ]
        }
      ],
      "source": [
        "!unzip '/content/playground-series-s3e26.zip' data"
      ]
    },
    {
      "cell_type": "code",
      "execution_count": 38,
      "metadata": {
        "id": "uL3fOXKuUuum"
      },
      "outputs": [],
      "source": [
        "train_set = pd.read_csv(\"/content/train.csv\")\n",
        "test_set = pd.read_csv(\"/content/test.csv\")\n",
        "sample_sub = pd.read_csv(\"/content/sample_submission.csv\")"
      ]
    },
    {
      "cell_type": "code",
      "execution_count": 39,
      "metadata": {
        "id": "jGyxnUtBWAY_"
      },
      "outputs": [],
      "source": [
        "train0 = train_set.copy()\n",
        "test0 = test_set.copy()"
      ]
    },
    {
      "cell_type": "code",
      "execution_count": 40,
      "metadata": {
        "id": "rmuvxuQ8U_ZP"
      },
      "outputs": [],
      "source": [
        "test_ids = test0.id\n",
        "test0.drop(\"id\", axis=1, inplace=True)\n",
        "\n",
        "target = train0[\"Status\"]\n",
        "\n",
        "train0.drop([\"id\", \"Status\"], axis=1, inplace=True)\n",
        "\n",
        "data = pd.concat([train0, test0], axis=0)"
      ]
    },
    {
      "cell_type": "code",
      "execution_count": 41,
      "metadata": {
        "id": "JMi2ILTwcJOP"
      },
      "outputs": [],
      "source": [
        "target_map = {\n",
        "    'C': 0,\n",
        "    'CL': 1,\n",
        "    'D': 2\n",
        "}"
      ]
    },
    {
      "cell_type": "markdown",
      "metadata": {
        "id": "ze_Ii4mPWayY"
      },
      "source": [
        "##EDA"
      ]
    },
    {
      "cell_type": "code",
      "execution_count": 42,
      "metadata": {
        "colab": {
          "base_uri": "https://localhost:8080/"
        },
        "id": "0EBjWq97WTkJ",
        "outputId": "fedd167f-bf96-48e9-9bce-b4c02772f95c"
      },
      "outputs": [
        {
          "data": {
            "text/plain": [
              "Index(['Drug', 'Sex', 'Ascites', 'Hepatomegaly', 'Spiders', 'Edema'], dtype='object')"
            ]
          },
          "execution_count": 42,
          "metadata": {},
          "output_type": "execute_result"
        }
      ],
      "source": [
        "data.select_dtypes(\"object\").columns"
      ]
    },
    {
      "cell_type": "code",
      "execution_count": 43,
      "metadata": {
        "id": "EPRiKQPkWwvu"
      },
      "outputs": [],
      "source": [
        "categorical_columns = ['Drug', 'Sex', 'Ascites', 'Hepatomegaly', 'Spiders', 'Edema']\n",
        "\n",
        "numerical_columns = [col for col in data.columns if col not in categorical_columns]"
      ]
    },
    {
      "cell_type": "code",
      "execution_count": 44,
      "metadata": {
        "colab": {
          "base_uri": "https://localhost:8080/",
          "height": 425
        },
        "id": "eWOwWzs0W8yl",
        "outputId": "36cfc212-4596-484d-a812-585d756bf31e"
      },
      "outputs": [
        {
          "data": {
            "text/html": [
              "\n",
              "  <div id=\"df-7c1768b9-e183-4d55-9119-10398d990268\" class=\"colab-df-container\">\n",
              "    <div>\n",
              "<style scoped>\n",
              "    .dataframe tbody tr th:only-of-type {\n",
              "        vertical-align: middle;\n",
              "    }\n",
              "\n",
              "    .dataframe tbody tr th {\n",
              "        vertical-align: top;\n",
              "    }\n",
              "\n",
              "    .dataframe thead th {\n",
              "        text-align: right;\n",
              "    }\n",
              "</style>\n",
              "<table border=\"1\" class=\"dataframe\">\n",
              "  <thead>\n",
              "    <tr style=\"text-align: right;\">\n",
              "      <th></th>\n",
              "      <th>Feature</th>\n",
              "      <th>Skew</th>\n",
              "      <th>Absolute skew</th>\n",
              "      <th>Skewed</th>\n",
              "    </tr>\n",
              "  </thead>\n",
              "  <tbody>\n",
              "    <tr>\n",
              "      <th>0</th>\n",
              "      <td>N_Days</td>\n",
              "      <td>0.441024</td>\n",
              "      <td>0.441024</td>\n",
              "      <td>False</td>\n",
              "    </tr>\n",
              "    <tr>\n",
              "      <th>1</th>\n",
              "      <td>Age</td>\n",
              "      <td>0.043244</td>\n",
              "      <td>0.043244</td>\n",
              "      <td>False</td>\n",
              "    </tr>\n",
              "    <tr>\n",
              "      <th>2</th>\n",
              "      <td>Bilirubin</td>\n",
              "      <td>3.373655</td>\n",
              "      <td>3.373655</td>\n",
              "      <td>True</td>\n",
              "    </tr>\n",
              "    <tr>\n",
              "      <th>3</th>\n",
              "      <td>Cholesterol</td>\n",
              "      <td>3.675326</td>\n",
              "      <td>3.675326</td>\n",
              "      <td>True</td>\n",
              "    </tr>\n",
              "    <tr>\n",
              "      <th>4</th>\n",
              "      <td>Albumin</td>\n",
              "      <td>-0.569451</td>\n",
              "      <td>0.569451</td>\n",
              "      <td>True</td>\n",
              "    </tr>\n",
              "    <tr>\n",
              "      <th>5</th>\n",
              "      <td>Copper</td>\n",
              "      <td>2.768250</td>\n",
              "      <td>2.768250</td>\n",
              "      <td>True</td>\n",
              "    </tr>\n",
              "    <tr>\n",
              "      <th>6</th>\n",
              "      <td>Alk_Phos</td>\n",
              "      <td>3.204595</td>\n",
              "      <td>3.204595</td>\n",
              "      <td>True</td>\n",
              "    </tr>\n",
              "    <tr>\n",
              "      <th>7</th>\n",
              "      <td>SGOT</td>\n",
              "      <td>1.588936</td>\n",
              "      <td>1.588936</td>\n",
              "      <td>True</td>\n",
              "    </tr>\n",
              "    <tr>\n",
              "      <th>8</th>\n",
              "      <td>Tryglicerides</td>\n",
              "      <td>2.557610</td>\n",
              "      <td>2.557610</td>\n",
              "      <td>True</td>\n",
              "    </tr>\n",
              "    <tr>\n",
              "      <th>9</th>\n",
              "      <td>Platelets</td>\n",
              "      <td>0.422047</td>\n",
              "      <td>0.422047</td>\n",
              "      <td>False</td>\n",
              "    </tr>\n",
              "    <tr>\n",
              "      <th>10</th>\n",
              "      <td>Prothrombin</td>\n",
              "      <td>1.222013</td>\n",
              "      <td>1.222013</td>\n",
              "      <td>True</td>\n",
              "    </tr>\n",
              "    <tr>\n",
              "      <th>11</th>\n",
              "      <td>Stage</td>\n",
              "      <td>-0.518363</td>\n",
              "      <td>0.518363</td>\n",
              "      <td>True</td>\n",
              "    </tr>\n",
              "  </tbody>\n",
              "</table>\n",
              "</div>\n",
              "    <div class=\"colab-df-buttons\">\n",
              "\n",
              "  <div class=\"colab-df-container\">\n",
              "    <button class=\"colab-df-convert\" onclick=\"convertToInteractive('df-7c1768b9-e183-4d55-9119-10398d990268')\"\n",
              "            title=\"Convert this dataframe to an interactive table.\"\n",
              "            style=\"display:none;\">\n",
              "\n",
              "  <svg xmlns=\"http://www.w3.org/2000/svg\" height=\"24px\" viewBox=\"0 -960 960 960\">\n",
              "    <path d=\"M120-120v-720h720v720H120Zm60-500h600v-160H180v160Zm220 220h160v-160H400v160Zm0 220h160v-160H400v160ZM180-400h160v-160H180v160Zm440 0h160v-160H620v160ZM180-180h160v-160H180v160Zm440 0h160v-160H620v160Z\"/>\n",
              "  </svg>\n",
              "    </button>\n",
              "\n",
              "  <style>\n",
              "    .colab-df-container {\n",
              "      display:flex;\n",
              "      gap: 12px;\n",
              "    }\n",
              "\n",
              "    .colab-df-convert {\n",
              "      background-color: #E8F0FE;\n",
              "      border: none;\n",
              "      border-radius: 50%;\n",
              "      cursor: pointer;\n",
              "      display: none;\n",
              "      fill: #1967D2;\n",
              "      height: 32px;\n",
              "      padding: 0 0 0 0;\n",
              "      width: 32px;\n",
              "    }\n",
              "\n",
              "    .colab-df-convert:hover {\n",
              "      background-color: #E2EBFA;\n",
              "      box-shadow: 0px 1px 2px rgba(60, 64, 67, 0.3), 0px 1px 3px 1px rgba(60, 64, 67, 0.15);\n",
              "      fill: #174EA6;\n",
              "    }\n",
              "\n",
              "    .colab-df-buttons div {\n",
              "      margin-bottom: 4px;\n",
              "    }\n",
              "\n",
              "    [theme=dark] .colab-df-convert {\n",
              "      background-color: #3B4455;\n",
              "      fill: #D2E3FC;\n",
              "    }\n",
              "\n",
              "    [theme=dark] .colab-df-convert:hover {\n",
              "      background-color: #434B5C;\n",
              "      box-shadow: 0px 1px 3px 1px rgba(0, 0, 0, 0.15);\n",
              "      filter: drop-shadow(0px 1px 2px rgba(0, 0, 0, 0.3));\n",
              "      fill: #FFFFFF;\n",
              "    }\n",
              "  </style>\n",
              "\n",
              "    <script>\n",
              "      const buttonEl =\n",
              "        document.querySelector('#df-7c1768b9-e183-4d55-9119-10398d990268 button.colab-df-convert');\n",
              "      buttonEl.style.display =\n",
              "        google.colab.kernel.accessAllowed ? 'block' : 'none';\n",
              "\n",
              "      async function convertToInteractive(key) {\n",
              "        const element = document.querySelector('#df-7c1768b9-e183-4d55-9119-10398d990268');\n",
              "        const dataTable =\n",
              "          await google.colab.kernel.invokeFunction('convertToInteractive',\n",
              "                                                    [key], {});\n",
              "        if (!dataTable) return;\n",
              "\n",
              "        const docLinkHtml = 'Like what you see? Visit the ' +\n",
              "          '<a target=\"_blank\" href=https://colab.research.google.com/notebooks/data_table.ipynb>data table notebook</a>'\n",
              "          + ' to learn more about interactive tables.';\n",
              "        element.innerHTML = '';\n",
              "        dataTable['output_type'] = 'display_data';\n",
              "        await google.colab.output.renderOutput(dataTable, element);\n",
              "        const docLink = document.createElement('div');\n",
              "        docLink.innerHTML = docLinkHtml;\n",
              "        element.appendChild(docLink);\n",
              "      }\n",
              "    </script>\n",
              "  </div>\n",
              "\n",
              "\n",
              "<div id=\"df-6da4be59-3baa-45bb-b1e8-4e11f4db52fb\">\n",
              "  <button class=\"colab-df-quickchart\" onclick=\"quickchart('df-6da4be59-3baa-45bb-b1e8-4e11f4db52fb')\"\n",
              "            title=\"Suggest charts\"\n",
              "            style=\"display:none;\">\n",
              "\n",
              "<svg xmlns=\"http://www.w3.org/2000/svg\" height=\"24px\"viewBox=\"0 0 24 24\"\n",
              "     width=\"24px\">\n",
              "    <g>\n",
              "        <path d=\"M19 3H5c-1.1 0-2 .9-2 2v14c0 1.1.9 2 2 2h14c1.1 0 2-.9 2-2V5c0-1.1-.9-2-2-2zM9 17H7v-7h2v7zm4 0h-2V7h2v10zm4 0h-2v-4h2v4z\"/>\n",
              "    </g>\n",
              "</svg>\n",
              "  </button>\n",
              "\n",
              "<style>\n",
              "  .colab-df-quickchart {\n",
              "      --bg-color: #E8F0FE;\n",
              "      --fill-color: #1967D2;\n",
              "      --hover-bg-color: #E2EBFA;\n",
              "      --hover-fill-color: #174EA6;\n",
              "      --disabled-fill-color: #AAA;\n",
              "      --disabled-bg-color: #DDD;\n",
              "  }\n",
              "\n",
              "  [theme=dark] .colab-df-quickchart {\n",
              "      --bg-color: #3B4455;\n",
              "      --fill-color: #D2E3FC;\n",
              "      --hover-bg-color: #434B5C;\n",
              "      --hover-fill-color: #FFFFFF;\n",
              "      --disabled-bg-color: #3B4455;\n",
              "      --disabled-fill-color: #666;\n",
              "  }\n",
              "\n",
              "  .colab-df-quickchart {\n",
              "    background-color: var(--bg-color);\n",
              "    border: none;\n",
              "    border-radius: 50%;\n",
              "    cursor: pointer;\n",
              "    display: none;\n",
              "    fill: var(--fill-color);\n",
              "    height: 32px;\n",
              "    padding: 0;\n",
              "    width: 32px;\n",
              "  }\n",
              "\n",
              "  .colab-df-quickchart:hover {\n",
              "    background-color: var(--hover-bg-color);\n",
              "    box-shadow: 0 1px 2px rgba(60, 64, 67, 0.3), 0 1px 3px 1px rgba(60, 64, 67, 0.15);\n",
              "    fill: var(--button-hover-fill-color);\n",
              "  }\n",
              "\n",
              "  .colab-df-quickchart-complete:disabled,\n",
              "  .colab-df-quickchart-complete:disabled:hover {\n",
              "    background-color: var(--disabled-bg-color);\n",
              "    fill: var(--disabled-fill-color);\n",
              "    box-shadow: none;\n",
              "  }\n",
              "\n",
              "  .colab-df-spinner {\n",
              "    border: 2px solid var(--fill-color);\n",
              "    border-color: transparent;\n",
              "    border-bottom-color: var(--fill-color);\n",
              "    animation:\n",
              "      spin 1s steps(1) infinite;\n",
              "  }\n",
              "\n",
              "  @keyframes spin {\n",
              "    0% {\n",
              "      border-color: transparent;\n",
              "      border-bottom-color: var(--fill-color);\n",
              "      border-left-color: var(--fill-color);\n",
              "    }\n",
              "    20% {\n",
              "      border-color: transparent;\n",
              "      border-left-color: var(--fill-color);\n",
              "      border-top-color: var(--fill-color);\n",
              "    }\n",
              "    30% {\n",
              "      border-color: transparent;\n",
              "      border-left-color: var(--fill-color);\n",
              "      border-top-color: var(--fill-color);\n",
              "      border-right-color: var(--fill-color);\n",
              "    }\n",
              "    40% {\n",
              "      border-color: transparent;\n",
              "      border-right-color: var(--fill-color);\n",
              "      border-top-color: var(--fill-color);\n",
              "    }\n",
              "    60% {\n",
              "      border-color: transparent;\n",
              "      border-right-color: var(--fill-color);\n",
              "    }\n",
              "    80% {\n",
              "      border-color: transparent;\n",
              "      border-right-color: var(--fill-color);\n",
              "      border-bottom-color: var(--fill-color);\n",
              "    }\n",
              "    90% {\n",
              "      border-color: transparent;\n",
              "      border-bottom-color: var(--fill-color);\n",
              "    }\n",
              "  }\n",
              "</style>\n",
              "\n",
              "  <script>\n",
              "    async function quickchart(key) {\n",
              "      const quickchartButtonEl =\n",
              "        document.querySelector('#' + key + ' button');\n",
              "      quickchartButtonEl.disabled = true;  // To prevent multiple clicks.\n",
              "      quickchartButtonEl.classList.add('colab-df-spinner');\n",
              "      try {\n",
              "        const charts = await google.colab.kernel.invokeFunction(\n",
              "            'suggestCharts', [key], {});\n",
              "      } catch (error) {\n",
              "        console.error('Error during call to suggestCharts:', error);\n",
              "      }\n",
              "      quickchartButtonEl.classList.remove('colab-df-spinner');\n",
              "      quickchartButtonEl.classList.add('colab-df-quickchart-complete');\n",
              "    }\n",
              "    (() => {\n",
              "      let quickchartButtonEl =\n",
              "        document.querySelector('#df-6da4be59-3baa-45bb-b1e8-4e11f4db52fb button');\n",
              "      quickchartButtonEl.style.display =\n",
              "        google.colab.kernel.accessAllowed ? 'block' : 'none';\n",
              "    })();\n",
              "  </script>\n",
              "</div>\n",
              "    </div>\n",
              "  </div>\n"
            ],
            "text/plain": [
              "          Feature      Skew  Absolute skew  Skewed\n",
              "0          N_Days  0.441024       0.441024   False\n",
              "1             Age  0.043244       0.043244   False\n",
              "2       Bilirubin  3.373655       3.373655    True\n",
              "3     Cholesterol  3.675326       3.675326    True\n",
              "4         Albumin -0.569451       0.569451    True\n",
              "5          Copper  2.768250       2.768250    True\n",
              "6        Alk_Phos  3.204595       3.204595    True\n",
              "7            SGOT  1.588936       1.588936    True\n",
              "8   Tryglicerides  2.557610       2.557610    True\n",
              "9       Platelets  0.422047       0.422047   False\n",
              "10    Prothrombin  1.222013       1.222013    True\n",
              "11          Stage -0.518363       0.518363    True"
            ]
          },
          "execution_count": 44,
          "metadata": {},
          "output_type": "execute_result"
        }
      ],
      "source": [
        "skew_df = pd.DataFrame(data.select_dtypes(np.number).columns, columns=['Feature'])\n",
        "skew_df['Skew'] = skew_df['Feature'].apply(lambda feature: scipy.stats.skew(data[feature]))\n",
        "skew_df['Absolute skew'] = skew_df['Skew'].apply(abs)\n",
        "skew_df['Skewed'] = skew_df['Absolute skew'].apply(lambda x: True if x >= 0.5 else False                                                                              )\n",
        "skew_df"
      ]
    },
    {
      "cell_type": "code",
      "execution_count": 45,
      "metadata": {
        "id": "JFdmNBZNYKhV"
      },
      "outputs": [],
      "source": [
        "for col in categorical_columns:\n",
        "  encoder = LabelEncoder()\n",
        "  encoder.fit(data[col])\n",
        "  data[col] = encoder.transform(data[col])\n",
        "\n",
        "for col in numerical_columns:\n",
        "  encoder = MinMaxScaler()\n",
        "  encoder.fit(np.array(data[col]).reshape(-1, 1))\n",
        "  data[col] = encoder.transform(np.array(data[col]).reshape(-1, 1))\n",
        "\n",
        "data.columns = data.columns.astype(str)"
      ]
    },
    {
      "cell_type": "markdown",
      "metadata": {
        "id": "7beR42t-Xn9O"
      },
      "source": [
        "##Unskewing"
      ]
    },
    {
      "cell_type": "code",
      "execution_count": 46,
      "metadata": {
        "id": "JHv86XNqaCQP"
      },
      "outputs": [],
      "source": [
        "for col in skew_df.query(\"Skewed == True\")[\"Feature\"].values:\n",
        "  data[col] = np.log1p(data[col])"
      ]
    },
    {
      "cell_type": "code",
      "execution_count": 47,
      "metadata": {
        "id": "JEfLtBoGaLRL"
      },
      "outputs": [],
      "source": [
        "data1 = data.copy()"
      ]
    },
    {
      "cell_type": "markdown",
      "metadata": {
        "id": "5dCbE1j0ak24"
      },
      "source": [
        "##OneHot Encoding"
      ]
    },
    {
      "cell_type": "code",
      "execution_count": 48,
      "metadata": {
        "id": "p9bNRrnKaQ_7"
      },
      "outputs": [],
      "source": [
        "data1 = pd.get_dummies(data1)"
      ]
    },
    {
      "cell_type": "code",
      "execution_count": 49,
      "metadata": {
        "id": "FnoGOAhWcVM8"
      },
      "outputs": [],
      "source": [
        "target = target.map(target_map)"
      ]
    },
    {
      "cell_type": "code",
      "execution_count": 50,
      "metadata": {
        "colab": {
          "base_uri": "https://localhost:8080/",
          "height": 465
        },
        "id": "MpIn3x3jab-o",
        "outputId": "5b81b6ef-14af-438d-abae-baf88c737fee"
      },
      "outputs": [
        {
          "data": {
            "image/png": "[encoded data removed]",
            "text/plain": [
              "<Figure size 2000x1000 with 2 Axes>"
            ]
          },
          "metadata": {},
          "output_type": "display_data"
        }
      ],
      "source": [
        "plt.figure(figsize=(20, 10))\n",
        "\n",
        "plt.subplot(1, 2, 1)\n",
        "sns.distplot(target, kde=True, fit=scipy.stats.norm)\n",
        "plt.title(\"Without  log transform\")\n",
        "plt.xlabel(\"SalePrice\")\n",
        "\n",
        "plt.subplot(1, 2, 2)\n",
        "sns.distplot(np.log(target+1), kde=True, fit=scipy.stats.norm)\n",
        "plt.xlabel(\"Log SalePrice\")\n",
        "plt.title(\"With log transform\")\n",
        "\n",
        "plt.show()"
      ]
    },
    {
      "cell_type": "markdown",
      "metadata": {
        "id": "4qBdj7P5nnx9"
      },
      "source": [
        "##Training"
      ]
    },
    {
      "cell_type": "code",
      "execution_count": 51,
      "metadata": {
        "id": "tBp7euWLciTv"
      },
      "outputs": [],
      "source": [
        "train_final = data1.loc[:train0.index.max(), :].copy()\n",
        "test_final = data1.loc[train0.index.max():, :].reset_index(drop=True).copy()"
      ]
    },
    {
      "cell_type": "code",
      "execution_count": 52,
      "metadata": {
        "colab": {
          "base_uri": "https://localhost:8080/",
          "height": 645
        },
        "collapsed": true,
        "id": "a7wIFTBfcwBQ",
        "outputId": "5ee546db-94ba-467f-a5ee-3eb6985d9cc4"
      },
      "outputs": [
        {
          "data": {
            "text/html": [
              "<style type=\"text/css\">\n",
              "#T_66d16_row8_col1 {\n",
              "  background-color: lightgreen;\n",
              "}\n",
              "</style>\n",
              "<table id=\"T_66d16\" class=\"dataframe\">\n",
              "  <thead>\n",
              "    <tr>\n",
              "      <th class=\"blank level0\" >&nbsp;</th>\n",
              "      <th id=\"T_66d16_level0_col0\" class=\"col_heading level0 col0\" >Description</th>\n",
              "      <th id=\"T_66d16_level0_col1\" class=\"col_heading level0 col1\" >Value</th>\n",
              "    </tr>\n",
              "  </thead>\n",
              "  <tbody>\n",
              "    <tr>\n",
              "      <th id=\"T_66d16_level0_row0\" class=\"row_heading level0 row0\" >0</th>\n",
              "      <td id=\"T_66d16_row0_col0\" class=\"data row0 col0\" >Session id</td>\n",
              "      <td id=\"T_66d16_row0_col1\" class=\"data row0 col1\" >5908</td>\n",
              "    </tr>\n",
              "    <tr>\n",
              "      <th id=\"T_66d16_level0_row1\" class=\"row_heading level0 row1\" >1</th>\n",
              "      <td id=\"T_66d16_row1_col0\" class=\"data row1 col0\" >Target</td>\n",
              "      <td id=\"T_66d16_row1_col1\" class=\"data row1 col1\" >Status</td>\n",
              "    </tr>\n",
              "    <tr>\n",
              "      <th id=\"T_66d16_level0_row2\" class=\"row_heading level0 row2\" >2</th>\n",
              "      <td id=\"T_66d16_row2_col0\" class=\"data row2 col0\" >Target type</td>\n",
              "      <td id=\"T_66d16_row2_col1\" class=\"data row2 col1\" >Regression</td>\n",
              "    </tr>\n",
              "    <tr>\n",
              "      <th id=\"T_66d16_level0_row3\" class=\"row_heading level0 row3\" >3</th>\n",
              "      <td id=\"T_66d16_row3_col0\" class=\"data row3 col0\" >Original data shape</td>\n",
              "      <td id=\"T_66d16_row3_col1\" class=\"data row3 col1\" >(7905, 19)</td>\n",
              "    </tr>\n",
              "    <tr>\n",
              "      <th id=\"T_66d16_level0_row4\" class=\"row_heading level0 row4\" >4</th>\n",
              "      <td id=\"T_66d16_row4_col0\" class=\"data row4 col0\" >Transformed data shape</td>\n",
              "      <td id=\"T_66d16_row4_col1\" class=\"data row4 col1\" >(7905, 19)</td>\n",
              "    </tr>\n",
              "    <tr>\n",
              "      <th id=\"T_66d16_level0_row5\" class=\"row_heading level0 row5\" >5</th>\n",
              "      <td id=\"T_66d16_row5_col0\" class=\"data row5 col0\" >Transformed train set shape</td>\n",
              "      <td id=\"T_66d16_row5_col1\" class=\"data row5 col1\" >(5533, 19)</td>\n",
              "    </tr>\n",
              "    <tr>\n",
              "      <th id=\"T_66d16_level0_row6\" class=\"row_heading level0 row6\" >6</th>\n",
              "      <td id=\"T_66d16_row6_col0\" class=\"data row6 col0\" >Transformed test set shape</td>\n",
              "      <td id=\"T_66d16_row6_col1\" class=\"data row6 col1\" >(2372, 19)</td>\n",
              "    </tr>\n",
              "    <tr>\n",
              "      <th id=\"T_66d16_level0_row7\" class=\"row_heading level0 row7\" >7</th>\n",
              "      <td id=\"T_66d16_row7_col0\" class=\"data row7 col0\" >Numeric features</td>\n",
              "      <td id=\"T_66d16_row7_col1\" class=\"data row7 col1\" >18</td>\n",
              "    </tr>\n",
              "    <tr>\n",
              "      <th id=\"T_66d16_level0_row8\" class=\"row_heading level0 row8\" >8</th>\n",
              "      <td id=\"T_66d16_row8_col0\" class=\"data row8 col0\" >Preprocess</td>\n",
              "      <td id=\"T_66d16_row8_col1\" class=\"data row8 col1\" >True</td>\n",
              "    </tr>\n",
              "    <tr>\n",
              "      <th id=\"T_66d16_level0_row9\" class=\"row_heading level0 row9\" >9</th>\n",
              "      <td id=\"T_66d16_row9_col0\" class=\"data row9 col0\" >Imputation type</td>\n",
              "      <td id=\"T_66d16_row9_col1\" class=\"data row9 col1\" >simple</td>\n",
              "    </tr>\n",
              "    <tr>\n",
              "      <th id=\"T_66d16_level0_row10\" class=\"row_heading level0 row10\" >10</th>\n",
              "      <td id=\"T_66d16_row10_col0\" class=\"data row10 col0\" >Numeric imputation</td>\n",
              "      <td id=\"T_66d16_row10_col1\" class=\"data row10 col1\" >mean</td>\n",
              "    </tr>\n",
              "    <tr>\n",
              "      <th id=\"T_66d16_level0_row11\" class=\"row_heading level0 row11\" >11</th>\n",
              "      <td id=\"T_66d16_row11_col0\" class=\"data row11 col0\" >Categorical imputation</td>\n",
              "      <td id=\"T_66d16_row11_col1\" class=\"data row11 col1\" >mode</td>\n",
              "    </tr>\n",
              "    <tr>\n",
              "      <th id=\"T_66d16_level0_row12\" class=\"row_heading level0 row12\" >12</th>\n",
              "      <td id=\"T_66d16_row12_col0\" class=\"data row12 col0\" >Fold Generator</td>\n",
              "      <td id=\"T_66d16_row12_col1\" class=\"data row12 col1\" >KFold</td>\n",
              "    </tr>\n",
              "    <tr>\n",
              "      <th id=\"T_66d16_level0_row13\" class=\"row_heading level0 row13\" >13</th>\n",
              "      <td id=\"T_66d16_row13_col0\" class=\"data row13 col0\" >Fold Number</td>\n",
              "      <td id=\"T_66d16_row13_col1\" class=\"data row13 col1\" >10</td>\n",
              "    </tr>\n",
              "    <tr>\n",
              "      <th id=\"T_66d16_level0_row14\" class=\"row_heading level0 row14\" >14</th>\n",
              "      <td id=\"T_66d16_row14_col0\" class=\"data row14 col0\" >CPU Jobs</td>\n",
              "      <td id=\"T_66d16_row14_col1\" class=\"data row14 col1\" >-1</td>\n",
              "    </tr>\n",
              "    <tr>\n",
              "      <th id=\"T_66d16_level0_row15\" class=\"row_heading level0 row15\" >15</th>\n",
              "      <td id=\"T_66d16_row15_col0\" class=\"data row15 col0\" >Use GPU</td>\n",
              "      <td id=\"T_66d16_row15_col1\" class=\"data row15 col1\" >False</td>\n",
              "    </tr>\n",
              "    <tr>\n",
              "      <th id=\"T_66d16_level0_row16\" class=\"row_heading level0 row16\" >16</th>\n",
              "      <td id=\"T_66d16_row16_col0\" class=\"data row16 col0\" >Log Experiment</td>\n",
              "      <td id=\"T_66d16_row16_col1\" class=\"data row16 col1\" >False</td>\n",
              "    </tr>\n",
              "    <tr>\n",
              "      <th id=\"T_66d16_level0_row17\" class=\"row_heading level0 row17\" >17</th>\n",
              "      <td id=\"T_66d16_row17_col0\" class=\"data row17 col0\" >Experiment Name</td>\n",
              "      <td id=\"T_66d16_row17_col1\" class=\"data row17 col1\" >reg-default-name</td>\n",
              "    </tr>\n",
              "    <tr>\n",
              "      <th id=\"T_66d16_level0_row18\" class=\"row_heading level0 row18\" >18</th>\n",
              "      <td id=\"T_66d16_row18_col0\" class=\"data row18 col0\" >USI</td>\n",
              "      <td id=\"T_66d16_row18_col1\" class=\"data row18 col1\" >00a7</td>\n",
              "    </tr>\n",
              "  </tbody>\n",
              "</table>\n"
            ],
            "text/plain": [
              "<pandas.io.formats.style.Styler at 0x7bdeff6225c0>"
            ]
          },
          "metadata": {},
          "output_type": "display_data"
        }
      ],
      "source": [
        "_ = setup(data=pd.concat([train_final, target], axis=1), target='Status')"
      ]
    },
    {
      "cell_type": "code",
      "execution_count": 53,
      "metadata": {
        "colab": {
          "base_uri": "https://localhost:8080/",
          "height": 702,
          "referenced_widgets": [
            "4c024a270af34851b05d4b3795488239",
            "ba22ca7b68d044de8fbcac4a7b998a60",
            "c271565f335d4763abc2a621093496d6",
            "80fc9ea669a74b16a398cd734d842461",
            "e8429c0742814a82b88571cf4e8d4b07",
            "3f48d22db242463d9fcaa9195f781b8d",
            "2b45381267d54893b1c79005ea859536",
            "5d332ad3bd67476aa8e31c7c7116eba3",
            "355b7f04529343d8bffcded906ebab38",
            "160a0210baa841feb48d96fadeb5b09b",
            "19ed587e685343f3ba19a1bca52b2c7e"
          ]
        },
        "id": "QB2fI7Igeg1K",
        "outputId": "230536ae-6916-43bd-fe6b-a22fb25846a3"
      },
      "outputs": [
        {
          "data": {
            "text/html": [],
            "text/plain": [
              "<IPython.core.display.HTML object>"
            ]
          },
          "metadata": {},
          "output_type": "display_data"
        },
        {
          "data": {
            "text/html": [
              "<style type=\"text/css\">\n",
              "#T_1a68d th {\n",
              "  text-align: left;\n",
              "}\n",
              "#T_1a68d_row0_col0, #T_1a68d_row1_col0, #T_1a68d_row1_col1, #T_1a68d_row1_col2, #T_1a68d_row1_col3, #T_1a68d_row1_col4, #T_1a68d_row1_col5, #T_1a68d_row1_col6, #T_1a68d_row2_col0, #T_1a68d_row2_col1, #T_1a68d_row2_col2, #T_1a68d_row2_col3, #T_1a68d_row2_col4, #T_1a68d_row2_col5, #T_1a68d_row2_col6, #T_1a68d_row3_col0, #T_1a68d_row3_col1, #T_1a68d_row3_col2, #T_1a68d_row3_col3, #T_1a68d_row3_col4, #T_1a68d_row3_col5, #T_1a68d_row3_col6, #T_1a68d_row4_col0, #T_1a68d_row4_col1, #T_1a68d_row4_col2, #T_1a68d_row4_col3, #T_1a68d_row4_col4, #T_1a68d_row4_col5, #T_1a68d_row4_col6, #T_1a68d_row5_col0, #T_1a68d_row5_col1, #T_1a68d_row5_col2, #T_1a68d_row5_col3, #T_1a68d_row5_col4, #T_1a68d_row5_col5, #T_1a68d_row5_col6, #T_1a68d_row6_col0, #T_1a68d_row6_col1, #T_1a68d_row6_col2, #T_1a68d_row6_col3, #T_1a68d_row6_col4, #T_1a68d_row6_col5, #T_1a68d_row6_col6, #T_1a68d_row7_col0, #T_1a68d_row7_col1, #T_1a68d_row7_col2, #T_1a68d_row7_col3, #T_1a68d_row7_col4, #T_1a68d_row7_col5, #T_1a68d_row7_col6, #T_1a68d_row8_col0, #T_1a68d_row8_col1, #T_1a68d_row8_col2, #T_1a68d_row8_col3, #T_1a68d_row8_col4, #T_1a68d_row8_col5, #T_1a68d_row8_col6, #T_1a68d_row9_col0, #T_1a68d_row9_col1, #T_1a68d_row9_col2, #T_1a68d_row9_col3, #T_1a68d_row9_col4, #T_1a68d_row9_col5, #T_1a68d_row9_col6, #T_1a68d_row10_col0, #T_1a68d_row10_col1, #T_1a68d_row10_col2, #T_1a68d_row10_col3, #T_1a68d_row10_col4, #T_1a68d_row10_col5, #T_1a68d_row10_col6, #T_1a68d_row11_col0, #T_1a68d_row11_col1, #T_1a68d_row11_col2, #T_1a68d_row11_col3, #T_1a68d_row11_col4, #T_1a68d_row11_col5, #T_1a68d_row11_col6, #T_1a68d_row12_col0, #T_1a68d_row12_col1, #T_1a68d_row12_col2, #T_1a68d_row12_col3, #T_1a68d_row12_col4, #T_1a68d_row12_col5, #T_1a68d_row12_col6, #T_1a68d_row13_col0, #T_1a68d_row13_col1, #T_1a68d_row13_col2, #T_1a68d_row13_col3, #T_1a68d_row13_col4, #T_1a68d_row13_col5, #T_1a68d_row13_col6, #T_1a68d_row14_col0, #T_1a68d_row14_col1, #T_1a68d_row14_col2, #T_1a68d_row14_col3, #T_1a68d_row14_col4, #T_1a68d_row14_col5, #T_1a68d_row14_col6, #T_1a68d_row15_col0, #T_1a68d_row15_col1, #T_1a68d_row15_col2, #T_1a68d_row15_col3, #T_1a68d_row15_col4, #T_1a68d_row15_col5, #T_1a68d_row15_col6, #T_1a68d_row16_col0, #T_1a68d_row16_col1, #T_1a68d_row16_col2, #T_1a68d_row16_col3, #T_1a68d_row16_col4, #T_1a68d_row16_col5, #T_1a68d_row16_col6, #T_1a68d_row17_col0, #T_1a68d_row17_col1, #T_1a68d_row17_col2, #T_1a68d_row17_col3, #T_1a68d_row17_col4, #T_1a68d_row17_col5, #T_1a68d_row17_col6, #T_1a68d_row18_col0, #T_1a68d_row18_col1, #T_1a68d_row18_col2, #T_1a68d_row18_col3, #T_1a68d_row18_col4, #T_1a68d_row18_col5, #T_1a68d_row18_col6 {\n",
              "  text-align: left;\n",
              "}\n",
              "#T_1a68d_row0_col1, #T_1a68d_row0_col2, #T_1a68d_row0_col3, #T_1a68d_row0_col4, #T_1a68d_row0_col5, #T_1a68d_row0_col6 {\n",
              "  text-align: left;\n",
              "  background-color: yellow;\n",
              "}\n",
              "#T_1a68d_row0_col7, #T_1a68d_row1_col7, #T_1a68d_row2_col7, #T_1a68d_row3_col7, #T_1a68d_row4_col7, #T_1a68d_row5_col7, #T_1a68d_row6_col7, #T_1a68d_row7_col7, #T_1a68d_row8_col7, #T_1a68d_row9_col7, #T_1a68d_row10_col7, #T_1a68d_row11_col7, #T_1a68d_row12_col7, #T_1a68d_row13_col7, #T_1a68d_row14_col7, #T_1a68d_row15_col7, #T_1a68d_row16_col7, #T_1a68d_row18_col7 {\n",
              "  text-align: left;\n",
              "  background-color: lightgrey;\n",
              "}\n",
              "#T_1a68d_row17_col7 {\n",
              "  text-align: left;\n",
              "  background-color: yellow;\n",
              "  background-color: lightgrey;\n",
              "}\n",
              "</style>\n",
              "<table id=\"T_1a68d\" class=\"dataframe\">\n",
              "  <thead>\n",
              "    <tr>\n",
              "      <th class=\"blank level0\" >&nbsp;</th>\n",
              "      <th id=\"T_1a68d_level0_col0\" class=\"col_heading level0 col0\" >Model</th>\n",
              "      <th id=\"T_1a68d_level0_col1\" class=\"col_heading level0 col1\" >MAE</th>\n",
              "      <th id=\"T_1a68d_level0_col2\" class=\"col_heading level0 col2\" >MSE</th>\n",
              "      <th id=\"T_1a68d_level0_col3\" class=\"col_heading level0 col3\" >RMSE</th>\n",
              "      <th id=\"T_1a68d_level0_col4\" class=\"col_heading level0 col4\" >R2</th>\n",
              "      <th id=\"T_1a68d_level0_col5\" class=\"col_heading level0 col5\" >RMSLE</th>\n",
              "      <th id=\"T_1a68d_level0_col6\" class=\"col_heading level0 col6\" >MAPE</th>\n",
              "      <th id=\"T_1a68d_level0_col7\" class=\"col_heading level0 col7\" >TT (Sec)</th>\n",
              "    </tr>\n",
              "  </thead>\n",
              "  <tbody>\n",
              "    <tr>\n",
              "      <th id=\"T_1a68d_level0_row0\" class=\"row_heading level0 row0\" >lightgbm</th>\n",
              "      <td id=\"T_1a68d_row0_col0\" class=\"data row0 col0\" >Light Gradient Boosting Machine</td>\n",
              "      <td id=\"T_1a68d_row0_col1\" class=\"data row0 col1\" >0.4395</td>\n",
              "      <td id=\"T_1a68d_row0_col2\" class=\"data row0 col2\" >0.4267</td>\n",
              "      <td id=\"T_1a68d_row0_col3\" class=\"data row0 col3\" >0.6528</td>\n",
              "      <td id=\"T_1a68d_row0_col4\" class=\"data row0 col4\" >0.5140</td>\n",
              "      <td id=\"T_1a68d_row0_col5\" class=\"data row0 col5\" >0.3702</td>\n",
              "      <td id=\"T_1a68d_row0_col6\" class=\"data row0 col6\" >0.3272</td>\n",
              "      <td id=\"T_1a68d_row0_col7\" class=\"data row0 col7\" >0.5390</td>\n",
              "    </tr>\n",
              "    <tr>\n",
              "      <th id=\"T_1a68d_level0_row1\" class=\"row_heading level0 row1\" >gbr</th>\n",
              "      <td id=\"T_1a68d_row1_col0\" class=\"data row1 col0\" >Gradient Boosting Regressor</td>\n",
              "      <td id=\"T_1a68d_row1_col1\" class=\"data row1 col1\" >0.4624</td>\n",
              "      <td id=\"T_1a68d_row1_col2\" class=\"data row1 col2\" >0.4277</td>\n",
              "      <td id=\"T_1a68d_row1_col3\" class=\"data row1 col3\" >0.6536</td>\n",
              "      <td id=\"T_1a68d_row1_col4\" class=\"data row1 col4\" >0.5128</td>\n",
              "      <td id=\"T_1a68d_row1_col5\" class=\"data row1 col5\" >0.3714</td>\n",
              "      <td id=\"T_1a68d_row1_col6\" class=\"data row1 col6\" >0.3426</td>\n",
              "      <td id=\"T_1a68d_row1_col7\" class=\"data row1 col7\" >0.8580</td>\n",
              "    </tr>\n",
              "    <tr>\n",
              "      <th id=\"T_1a68d_level0_row2\" class=\"row_heading level0 row2\" >rf</th>\n",
              "      <td id=\"T_1a68d_row2_col0\" class=\"data row2 col0\" >Random Forest Regressor</td>\n",
              "      <td id=\"T_1a68d_row2_col1\" class=\"data row2 col1\" >0.4585</td>\n",
              "      <td id=\"T_1a68d_row2_col2\" class=\"data row2 col2\" >0.4440</td>\n",
              "      <td id=\"T_1a68d_row2_col3\" class=\"data row2 col3\" >0.6660</td>\n",
              "      <td id=\"T_1a68d_row2_col4\" class=\"data row2 col4\" >0.4943</td>\n",
              "      <td id=\"T_1a68d_row2_col5\" class=\"data row2 col5\" >0.3792</td>\n",
              "      <td id=\"T_1a68d_row2_col6\" class=\"data row2 col6\" >0.3346</td>\n",
              "      <td id=\"T_1a68d_row2_col7\" class=\"data row2 col7\" >3.5740</td>\n",
              "    </tr>\n",
              "    <tr>\n",
              "      <th id=\"T_1a68d_level0_row3\" class=\"row_heading level0 row3\" >et</th>\n",
              "      <td id=\"T_1a68d_row3_col0\" class=\"data row3 col0\" >Extra Trees Regressor</td>\n",
              "      <td id=\"T_1a68d_row3_col1\" class=\"data row3 col1\" >0.4676</td>\n",
              "      <td id=\"T_1a68d_row3_col2\" class=\"data row3 col2\" >0.4453</td>\n",
              "      <td id=\"T_1a68d_row3_col3\" class=\"data row3 col3\" >0.6669</td>\n",
              "      <td id=\"T_1a68d_row3_col4\" class=\"data row3 col4\" >0.4929</td>\n",
              "      <td id=\"T_1a68d_row3_col5\" class=\"data row3 col5\" >0.3810</td>\n",
              "      <td id=\"T_1a68d_row3_col6\" class=\"data row3 col6\" >0.3398</td>\n",
              "      <td id=\"T_1a68d_row3_col7\" class=\"data row3 col7\" >1.1290</td>\n",
              "    </tr>\n",
              "    <tr>\n",
              "      <th id=\"T_1a68d_level0_row4\" class=\"row_heading level0 row4\" >xgboost</th>\n",
              "      <td id=\"T_1a68d_row4_col0\" class=\"data row4 col0\" >Extreme Gradient Boosting</td>\n",
              "      <td id=\"T_1a68d_row4_col1\" class=\"data row4 col1\" >0.4756</td>\n",
              "      <td id=\"T_1a68d_row4_col2\" class=\"data row4 col2\" >0.4792</td>\n",
              "      <td id=\"T_1a68d_row4_col3\" class=\"data row4 col3\" >0.6918</td>\n",
              "      <td id=\"T_1a68d_row4_col4\" class=\"data row4 col4\" >0.4541</td>\n",
              "      <td id=\"T_1a68d_row4_col5\" class=\"data row4 col5\" >0.3917</td>\n",
              "      <td id=\"T_1a68d_row4_col6\" class=\"data row4 col6\" >0.3413</td>\n",
              "      <td id=\"T_1a68d_row4_col7\" class=\"data row4 col7\" >0.4300</td>\n",
              "    </tr>\n",
              "    <tr>\n",
              "      <th id=\"T_1a68d_level0_row5\" class=\"row_heading level0 row5\" >ada</th>\n",
              "      <td id=\"T_1a68d_row5_col0\" class=\"data row5 col0\" >AdaBoost Regressor</td>\n",
              "      <td id=\"T_1a68d_row5_col1\" class=\"data row5 col1\" >0.5782</td>\n",
              "      <td id=\"T_1a68d_row5_col2\" class=\"data row5 col2\" >0.4988</td>\n",
              "      <td id=\"T_1a68d_row5_col3\" class=\"data row5 col3\" >0.7060</td>\n",
              "      <td id=\"T_1a68d_row5_col4\" class=\"data row5 col4\" >0.4320</td>\n",
              "      <td id=\"T_1a68d_row5_col5\" class=\"data row5 col5\" >0.4123</td>\n",
              "      <td id=\"T_1a68d_row5_col6\" class=\"data row5 col6\" >0.3801</td>\n",
              "      <td id=\"T_1a68d_row5_col7\" class=\"data row5 col7\" >0.1070</td>\n",
              "    </tr>\n",
              "    <tr>\n",
              "      <th id=\"T_1a68d_level0_row6\" class=\"row_heading level0 row6\" >ridge</th>\n",
              "      <td id=\"T_1a68d_row6_col0\" class=\"data row6 col0\" >Ridge Regression</td>\n",
              "      <td id=\"T_1a68d_row6_col1\" class=\"data row6 col1\" >0.5605</td>\n",
              "      <td id=\"T_1a68d_row6_col2\" class=\"data row6 col2\" >0.5125</td>\n",
              "      <td id=\"T_1a68d_row6_col3\" class=\"data row6 col3\" >0.7156</td>\n",
              "      <td id=\"T_1a68d_row6_col4\" class=\"data row6 col4\" >0.4159</td>\n",
              "      <td id=\"T_1a68d_row6_col5\" class=\"data row6 col5\" >0.4049</td>\n",
              "      <td id=\"T_1a68d_row6_col6\" class=\"data row6 col6\" >0.4057</td>\n",
              "      <td id=\"T_1a68d_row6_col7\" class=\"data row6 col7\" >0.0980</td>\n",
              "    </tr>\n",
              "    <tr>\n",
              "      <th id=\"T_1a68d_level0_row7\" class=\"row_heading level0 row7\" >br</th>\n",
              "      <td id=\"T_1a68d_row7_col0\" class=\"data row7 col0\" >Bayesian Ridge</td>\n",
              "      <td id=\"T_1a68d_row7_col1\" class=\"data row7 col1\" >0.5604</td>\n",
              "      <td id=\"T_1a68d_row7_col2\" class=\"data row7 col2\" >0.5125</td>\n",
              "      <td id=\"T_1a68d_row7_col3\" class=\"data row7 col3\" >0.7156</td>\n",
              "      <td id=\"T_1a68d_row7_col4\" class=\"data row7 col4\" >0.4159</td>\n",
              "      <td id=\"T_1a68d_row7_col5\" class=\"data row7 col5\" >0.4048</td>\n",
              "      <td id=\"T_1a68d_row7_col6\" class=\"data row7 col6\" >0.4056</td>\n",
              "      <td id=\"T_1a68d_row7_col7\" class=\"data row7 col7\" >0.0480</td>\n",
              "    </tr>\n",
              "    <tr>\n",
              "      <th id=\"T_1a68d_level0_row8\" class=\"row_heading level0 row8\" >lar</th>\n",
              "      <td id=\"T_1a68d_row8_col0\" class=\"data row8 col0\" >Least Angle Regression</td>\n",
              "      <td id=\"T_1a68d_row8_col1\" class=\"data row8 col1\" >0.5597</td>\n",
              "      <td id=\"T_1a68d_row8_col2\" class=\"data row8 col2\" >0.5126</td>\n",
              "      <td id=\"T_1a68d_row8_col3\" class=\"data row8 col3\" >0.7156</td>\n",
              "      <td id=\"T_1a68d_row8_col4\" class=\"data row8 col4\" >0.4158</td>\n",
              "      <td id=\"T_1a68d_row8_col5\" class=\"data row8 col5\" >0.4047</td>\n",
              "      <td id=\"T_1a68d_row8_col6\" class=\"data row8 col6\" >0.4052</td>\n",
              "      <td id=\"T_1a68d_row8_col7\" class=\"data row8 col7\" >0.0750</td>\n",
              "    </tr>\n",
              "    <tr>\n",
              "      <th id=\"T_1a68d_level0_row9\" class=\"row_heading level0 row9\" >lr</th>\n",
              "      <td id=\"T_1a68d_row9_col0\" class=\"data row9 col0\" >Linear Regression</td>\n",
              "      <td id=\"T_1a68d_row9_col1\" class=\"data row9 col1\" >0.5597</td>\n",
              "      <td id=\"T_1a68d_row9_col2\" class=\"data row9 col2\" >0.5126</td>\n",
              "      <td id=\"T_1a68d_row9_col3\" class=\"data row9 col3\" >0.7156</td>\n",
              "      <td id=\"T_1a68d_row9_col4\" class=\"data row9 col4\" >0.4158</td>\n",
              "      <td id=\"T_1a68d_row9_col5\" class=\"data row9 col5\" >0.4047</td>\n",
              "      <td id=\"T_1a68d_row9_col6\" class=\"data row9 col6\" >0.4052</td>\n",
              "      <td id=\"T_1a68d_row9_col7\" class=\"data row9 col7\" >0.9260</td>\n",
              "    </tr>\n",
              "    <tr>\n",
              "      <th id=\"T_1a68d_level0_row10\" class=\"row_heading level0 row10\" >huber</th>\n",
              "      <td id=\"T_1a68d_row10_col0\" class=\"data row10 col0\" >Huber Regressor</td>\n",
              "      <td id=\"T_1a68d_row10_col1\" class=\"data row10 col1\" >0.5377</td>\n",
              "      <td id=\"T_1a68d_row10_col2\" class=\"data row10 col2\" >0.5283</td>\n",
              "      <td id=\"T_1a68d_row10_col3\" class=\"data row10 col3\" >0.7265</td>\n",
              "      <td id=\"T_1a68d_row10_col4\" class=\"data row10 col4\" >0.3980</td>\n",
              "      <td id=\"T_1a68d_row10_col5\" class=\"data row10 col5\" >0.3959</td>\n",
              "      <td id=\"T_1a68d_row10_col6\" class=\"data row10 col6\" >0.4333</td>\n",
              "      <td id=\"T_1a68d_row10_col7\" class=\"data row10 col7\" >0.2110</td>\n",
              "    </tr>\n",
              "    <tr>\n",
              "      <th id=\"T_1a68d_level0_row11\" class=\"row_heading level0 row11\" >knn</th>\n",
              "      <td id=\"T_1a68d_row11_col0\" class=\"data row11 col0\" >K Neighbors Regressor</td>\n",
              "      <td id=\"T_1a68d_row11_col1\" class=\"data row11 col1\" >0.4919</td>\n",
              "      <td id=\"T_1a68d_row11_col2\" class=\"data row11 col2\" >0.5694</td>\n",
              "      <td id=\"T_1a68d_row11_col3\" class=\"data row11 col3\" >0.7541</td>\n",
              "      <td id=\"T_1a68d_row11_col4\" class=\"data row11 col4\" >0.3511</td>\n",
              "      <td id=\"T_1a68d_row11_col5\" class=\"data row11 col5\" >0.4229</td>\n",
              "      <td id=\"T_1a68d_row11_col6\" class=\"data row11 col6\" >0.4053</td>\n",
              "      <td id=\"T_1a68d_row11_col7\" class=\"data row11 col7\" >0.0800</td>\n",
              "    </tr>\n",
              "    <tr>\n",
              "      <th id=\"T_1a68d_level0_row12\" class=\"row_heading level0 row12\" >omp</th>\n",
              "      <td id=\"T_1a68d_row12_col0\" class=\"data row12 col0\" >Orthogonal Matching Pursuit</td>\n",
              "      <td id=\"T_1a68d_row12_col1\" class=\"data row12 col1\" >0.7452</td>\n",
              "      <td id=\"T_1a68d_row12_col2\" class=\"data row12 col2\" >0.7343</td>\n",
              "      <td id=\"T_1a68d_row12_col3\" class=\"data row12 col3\" >0.8568</td>\n",
              "      <td id=\"T_1a68d_row12_col4\" class=\"data row12 col4\" >0.1633</td>\n",
              "      <td id=\"T_1a68d_row12_col5\" class=\"data row12 col5\" >0.4870</td>\n",
              "      <td id=\"T_1a68d_row12_col6\" class=\"data row12 col6\" >0.5199</td>\n",
              "      <td id=\"T_1a68d_row12_col7\" class=\"data row12 col7\" >0.0830</td>\n",
              "    </tr>\n",
              "    <tr>\n",
              "      <th id=\"T_1a68d_level0_row13\" class=\"row_heading level0 row13\" >dt</th>\n",
              "      <td id=\"T_1a68d_row13_col0\" class=\"data row13 col0\" >Decision Tree Regressor</td>\n",
              "      <td id=\"T_1a68d_row13_col1\" class=\"data row13 col1\" >0.4533</td>\n",
              "      <td id=\"T_1a68d_row13_col2\" class=\"data row13 col2\" >0.8477</td>\n",
              "      <td id=\"T_1a68d_row13_col3\" class=\"data row13 col3\" >0.9200</td>\n",
              "      <td id=\"T_1a68d_row13_col4\" class=\"data row13 col4\" >0.0345</td>\n",
              "      <td id=\"T_1a68d_row13_col5\" class=\"data row13 col5\" >0.5077</td>\n",
              "      <td id=\"T_1a68d_row13_col6\" class=\"data row13 col6\" >0.3592</td>\n",
              "      <td id=\"T_1a68d_row13_col7\" class=\"data row13 col7\" >0.1840</td>\n",
              "    </tr>\n",
              "    <tr>\n",
              "      <th id=\"T_1a68d_level0_row14\" class=\"row_heading level0 row14\" >lasso</th>\n",
              "      <td id=\"T_1a68d_row14_col0\" class=\"data row14 col0\" >Lasso Regression</td>\n",
              "      <td id=\"T_1a68d_row14_col1\" class=\"data row14 col1\" >0.8894</td>\n",
              "      <td id=\"T_1a68d_row14_col2\" class=\"data row14 col2\" >0.8793</td>\n",
              "      <td id=\"T_1a68d_row14_col3\" class=\"data row14 col3\" >0.9377</td>\n",
              "      <td id=\"T_1a68d_row14_col4\" class=\"data row14 col4\" >-0.0018</td>\n",
              "      <td id=\"T_1a68d_row14_col5\" class=\"data row14 col5\" >0.5363</td>\n",
              "      <td id=\"T_1a68d_row14_col6\" class=\"data row14 col6\" >0.6138</td>\n",
              "      <td id=\"T_1a68d_row14_col7\" class=\"data row14 col7\" >0.2560</td>\n",
              "    </tr>\n",
              "    <tr>\n",
              "      <th id=\"T_1a68d_level0_row15\" class=\"row_heading level0 row15\" >en</th>\n",
              "      <td id=\"T_1a68d_row15_col0\" class=\"data row15 col0\" >Elastic Net</td>\n",
              "      <td id=\"T_1a68d_row15_col1\" class=\"data row15 col1\" >0.8894</td>\n",
              "      <td id=\"T_1a68d_row15_col2\" class=\"data row15 col2\" >0.8793</td>\n",
              "      <td id=\"T_1a68d_row15_col3\" class=\"data row15 col3\" >0.9377</td>\n",
              "      <td id=\"T_1a68d_row15_col4\" class=\"data row15 col4\" >-0.0018</td>\n",
              "      <td id=\"T_1a68d_row15_col5\" class=\"data row15 col5\" >0.5363</td>\n",
              "      <td id=\"T_1a68d_row15_col6\" class=\"data row15 col6\" >0.6138</td>\n",
              "      <td id=\"T_1a68d_row15_col7\" class=\"data row15 col7\" >0.1040</td>\n",
              "    </tr>\n",
              "    <tr>\n",
              "      <th id=\"T_1a68d_level0_row16\" class=\"row_heading level0 row16\" >llar</th>\n",
              "      <td id=\"T_1a68d_row16_col0\" class=\"data row16 col0\" >Lasso Least Angle Regression</td>\n",
              "      <td id=\"T_1a68d_row16_col1\" class=\"data row16 col1\" >0.8894</td>\n",
              "      <td id=\"T_1a68d_row16_col2\" class=\"data row16 col2\" >0.8793</td>\n",
              "      <td id=\"T_1a68d_row16_col3\" class=\"data row16 col3\" >0.9377</td>\n",
              "      <td id=\"T_1a68d_row16_col4\" class=\"data row16 col4\" >-0.0018</td>\n",
              "      <td id=\"T_1a68d_row16_col5\" class=\"data row16 col5\" >0.5363</td>\n",
              "      <td id=\"T_1a68d_row16_col6\" class=\"data row16 col6\" >0.6138</td>\n",
              "      <td id=\"T_1a68d_row16_col7\" class=\"data row16 col7\" >0.0600</td>\n",
              "    </tr>\n",
              "    <tr>\n",
              "      <th id=\"T_1a68d_level0_row17\" class=\"row_heading level0 row17\" >dummy</th>\n",
              "      <td id=\"T_1a68d_row17_col0\" class=\"data row17 col0\" >Dummy Regressor</td>\n",
              "      <td id=\"T_1a68d_row17_col1\" class=\"data row17 col1\" >0.8894</td>\n",
              "      <td id=\"T_1a68d_row17_col2\" class=\"data row17 col2\" >0.8793</td>\n",
              "      <td id=\"T_1a68d_row17_col3\" class=\"data row17 col3\" >0.9377</td>\n",
              "      <td id=\"T_1a68d_row17_col4\" class=\"data row17 col4\" >-0.0018</td>\n",
              "      <td id=\"T_1a68d_row17_col5\" class=\"data row17 col5\" >0.5363</td>\n",
              "      <td id=\"T_1a68d_row17_col6\" class=\"data row17 col6\" >0.6138</td>\n",
              "      <td id=\"T_1a68d_row17_col7\" class=\"data row17 col7\" >0.0210</td>\n",
              "    </tr>\n",
              "    <tr>\n",
              "      <th id=\"T_1a68d_level0_row18\" class=\"row_heading level0 row18\" >par</th>\n",
              "      <td id=\"T_1a68d_row18_col0\" class=\"data row18 col0\" >Passive Aggressive Regressor</td>\n",
              "      <td id=\"T_1a68d_row18_col1\" class=\"data row18 col1\" >0.7880</td>\n",
              "      <td id=\"T_1a68d_row18_col2\" class=\"data row18 col2\" >1.1020</td>\n",
              "      <td id=\"T_1a68d_row18_col3\" class=\"data row18 col3\" >0.9977</td>\n",
              "      <td id=\"T_1a68d_row18_col4\" class=\"data row18 col4\" >-0.2686</td>\n",
              "      <td id=\"T_1a68d_row18_col5\" class=\"data row18 col5\" >0.4995</td>\n",
              "      <td id=\"T_1a68d_row18_col6\" class=\"data row18 col6\" >0.6423</td>\n",
              "      <td id=\"T_1a68d_row18_col7\" class=\"data row18 col7\" >0.0860</td>\n",
              "    </tr>\n",
              "  </tbody>\n",
              "</table>\n"
            ],
            "text/plain": [
              "<pandas.io.formats.style.Styler at 0x7bdf0b3128c0>"
            ]
          },
          "metadata": {},
          "output_type": "display_data"
        },
        {
          "data": {
            "application/vnd.jupyter.widget-view+json": {
              "model_id": "4c024a270af34851b05d4b3795488239",
              "version_major": 2,
              "version_minor": 0
            },
            "text/plain": [
              "Processing:   0%|          | 0/81 [00:00<?, ?it/s]"
            ]
          },
          "metadata": {
            "application/vnd.jupyter.widget-view+json": {
              "colab": {
                "custom_widget_manager": {
                  "url": "https://ssl.gstatic.com/colaboratory-static/widgets/colab-cdn-widget-manager/b3e629b1971e1542/manager.min.js"
                }
              }
            }
          },
          "output_type": "display_data"
        },
        {
          "data": {
            "text/html": [],
            "text/plain": [
              "<IPython.core.display.HTML object>"
            ]
          },
          "metadata": {},
          "output_type": "display_data"
        },
        {
          "data": {
            "text/html": [
              "<style>#sk-container-id-2 {color: black;background-color: white;}#sk-container-id-2 pre{padding: 0;}#sk-container-id-2 div.sk-toggleable {background-color: white;}#sk-container-id-2 label.sk-toggleable__label {cursor: pointer;display: block;width: 100%;margin-bottom: 0;padding: 0.3em;box-sizing: border-box;text-align: center;}#sk-container-id-2 label.sk-toggleable__label-arrow:before {content: \"▸\";float: left;margin-right: 0.25em;color: #696969;}#sk-container-id-2 label.sk-toggleable__label-arrow:hover:before {color: black;}#sk-container-id-2 div.sk-estimator:hover label.sk-toggleable__label-arrow:before {color: black;}#sk-container-id-2 div.sk-toggleable__content {max-height: 0;max-width: 0;overflow: hidden;text-align: left;background-color: #f0f8ff;}#sk-container-id-2 div.sk-toggleable__content pre {margin: 0.2em;color: black;border-radius: 0.25em;background-color: #f0f8ff;}#sk-container-id-2 input.sk-toggleable__control:checked~div.sk-toggleable__content {max-height: 200px;max-width: 100%;overflow: auto;}#sk-container-id-2 input.sk-toggleable__control:checked~label.sk-toggleable__label-arrow:before {content: \"▾\";}#sk-container-id-2 div.sk-estimator input.sk-toggleable__control:checked~label.sk-toggleable__label {background-color: #d4ebff;}#sk-container-id-2 div.sk-label input.sk-toggleable__control:checked~label.sk-toggleable__label {background-color: #d4ebff;}#sk-container-id-2 input.sk-hidden--visually {border: 0;clip: rect(1px 1px 1px 1px);clip: rect(1px, 1px, 1px, 1px);height: 1px;margin: -1px;overflow: hidden;padding: 0;position: absolute;width: 1px;}#sk-container-id-2 div.sk-estimator {font-family: monospace;background-color: #f0f8ff;border: 1px dotted black;border-radius: 0.25em;box-sizing: border-box;margin-bottom: 0.5em;}#sk-container-id-2 div.sk-estimator:hover {background-color: #d4ebff;}#sk-container-id-2 div.sk-parallel-item::after {content: \"\";width: 100%;border-bottom: 1px solid gray;flex-grow: 1;}#sk-container-id-2 div.sk-label:hover label.sk-toggleable__label {background-color: #d4ebff;}#sk-container-id-2 div.sk-serial::before {content: \"\";position: absolute;border-left: 1px solid gray;box-sizing: border-box;top: 0;bottom: 0;left: 50%;z-index: 0;}#sk-container-id-2 div.sk-serial {display: flex;flex-direction: column;align-items: center;background-color: white;padding-right: 0.2em;padding-left: 0.2em;position: relative;}#sk-container-id-2 div.sk-item {position: relative;z-index: 1;}#sk-container-id-2 div.sk-parallel {display: flex;align-items: stretch;justify-content: center;background-color: white;position: relative;}#sk-container-id-2 div.sk-item::before, #sk-container-id-2 div.sk-parallel-item::before {content: \"\";position: absolute;border-left: 1px solid gray;box-sizing: border-box;top: 0;bottom: 0;left: 50%;z-index: -1;}#sk-container-id-2 div.sk-parallel-item {display: flex;flex-direction: column;z-index: 1;position: relative;background-color: white;}#sk-container-id-2 div.sk-parallel-item:first-child::after {align-self: flex-end;width: 50%;}#sk-container-id-2 div.sk-parallel-item:last-child::after {align-self: flex-start;width: 50%;}#sk-container-id-2 div.sk-parallel-item:only-child::after {width: 0;}#sk-container-id-2 div.sk-dashed-wrapped {border: 1px dashed gray;margin: 0 0.4em 0.5em 0.4em;box-sizing: border-box;padding-bottom: 0.4em;background-color: white;}#sk-container-id-2 div.sk-label label {font-family: monospace;font-weight: bold;display: inline-block;line-height: 1.2em;}#sk-container-id-2 div.sk-label-container {text-align: center;}#sk-container-id-2 div.sk-container {/* jupyter's `normalize.less` sets `[hidden] { display: none; }` but bootstrap.min.css set `[hidden] { display: none !important; }` so we also need the `!important` here to be able to override the default hidden behavior on the sphinx rendered scikit-learn.org. See: https://github.com/scikit-learn/scikit-learn/issues/21755 */display: inline-block !important;position: relative;}#sk-container-id-2 div.sk-text-repr-fallback {display: none;}</style><div id=\"sk-container-id-2\" class=\"sk-top-container\"><div class=\"sk-text-repr-fallback\"><pre>LGBMRegressor(n_jobs=-1, random_state=5908)</pre><b>In a Jupyter environment, please rerun this cell to show the HTML representation or trust the notebook. <br />On GitHub, the HTML representation is unable to render, please try loading this page with nbviewer.org.</b></div><div class=\"sk-container\" hidden><div class=\"sk-item\"><div class=\"sk-estimator sk-toggleable\"><input class=\"sk-toggleable__control sk-hidden--visually\" id=\"sk-estimator-id-2\" type=\"checkbox\" checked><label for=\"sk-estimator-id-2\" class=\"sk-toggleable__label sk-toggleable__label-arrow\">LGBMRegressor</label><div class=\"sk-toggleable__content\"><pre>LGBMRegressor(n_jobs=-1, random_state=5908)</pre></div></div></div></div></div>"
            ],
            "text/plain": [
              "LGBMRegressor(n_jobs=-1, random_state=5908)"
            ]
          },
          "execution_count": 53,
          "metadata": {},
          "output_type": "execute_result"
        }
      ],
      "source": [
        "compare_models()"
      ]
    },
    {
      "cell_type": "code",
      "execution_count": 87,
      "metadata": {
        "id": "gf0BGFDFgB2O"
      },
      "outputs": [],
      "source": [
        "'''\n",
        "preds = []\n",
        "for model in models:\n",
        "  model.fit(train_final, target)\n",
        "  pred = model.predict_proba(test_final)\n",
        "  preds.append(pred)\n",
        "\n",
        "\n",
        "#pred_final = 0.8*preds[0] + 0.1*preds[1] + 0.1*preds[2]\n",
        "'''\n",
        "\n",
        "estimators = [\n",
        "    ('lgbm', LGBMClassifier(n_jobs=-1, random_state=1064)),\n",
        "    ('gbr', GradientBoostingClassifier()),\n",
        "    ('rf', RandomForestClassifier(n_jobs=-1))\n",
        "]\n",
        "\n",
        "clf = StackingClassifier(\n",
        "    estimators=estimators,\n",
        "    final_estimator=LogisticRegression(),\n",
        "    stack_method='predict_proba',\n",
        "    cv=5\n",
        ")"
      ]
    },
    {
      "cell_type": "code",
      "execution_count": 88,
      "metadata": {
        "colab": {
          "base_uri": "https://localhost:8080/"
        },
        "id": "L6V451DysdUZ",
        "outputId": "1de939ed-b25e-46ea-b1cb-99a7ff458da9"
      },
      "outputs": [
        {
          "name": "stdout",
          "output_type": "stream",
          "text": [
            "[LightGBM] [Info] Auto-choosing row-wise multi-threading, the overhead of testing was 0.000705 seconds.\n",
            "You can set `force_row_wise=true` to remove the overhead.\n",
            "And if memory is not enough, you can set `force_col_wise=true`.\n",
            "[LightGBM] [Info] Total Bins 1921\n",
            "[LightGBM] [Info] Number of data points in the train set: 7905, number of used features: 18\n",
            "[LightGBM] [Info] Start training from score -0.465082\n",
            "[LightGBM] [Info] Start training from score -3.358480\n",
            "[LightGBM] [Info] Start training from score -1.087291\n",
            "[LightGBM] [Info] Auto-choosing row-wise multi-threading, the overhead of testing was 0.000630 seconds.\n",
            "You can set `force_row_wise=true` to remove the overhead.\n",
            "And if memory is not enough, you can set `force_col_wise=true`.\n",
            "[LightGBM] [Info] Total Bins 1917\n",
            "[LightGBM] [Info] Number of data points in the train set: 6324, number of used features: 18\n",
            "[LightGBM] [Info] Start training from score -0.465082\n",
            "[LightGBM] [Info] Start training from score -3.358480\n",
            "[LightGBM] [Info] Start training from score -1.087291\n",
            "[LightGBM] [Info] Auto-choosing row-wise multi-threading, the overhead of testing was 0.021193 seconds.\n",
            "You can set `force_row_wise=true` to remove the overhead.\n",
            "And if memory is not enough, you can set `force_col_wise=true`.\n",
            "[LightGBM] [Info] Total Bins 1912\n",
            "[LightGBM] [Info] Number of data points in the train set: 6324, number of used features: 18\n",
            "[LightGBM] [Info] Start training from score -0.465082\n",
            "[LightGBM] [Info] Start training from score -3.358480\n",
            "[LightGBM] [Info] Start training from score -1.087291\n",
            "[LightGBM] [Info] Auto-choosing row-wise multi-threading, the overhead of testing was 0.000572 seconds.\n",
            "You can set `force_row_wise=true` to remove the overhead.\n",
            "And if memory is not enough, you can set `force_col_wise=true`.\n",
            "[LightGBM] [Info] Total Bins 1917\n",
            "[LightGBM] [Info] Number of data points in the train set: 6324, number of used features: 18\n",
            "[LightGBM] [Info] Start training from score -0.465082\n",
            "[LightGBM] [Info] Start training from score -3.358480\n",
            "[LightGBM] [Info] Start training from score -1.087291\n",
            "[LightGBM] [Info] Auto-choosing row-wise multi-threading, the overhead of testing was 0.000581 seconds.\n",
            "You can set `force_row_wise=true` to remove the overhead.\n",
            "And if memory is not enough, you can set `force_col_wise=true`.\n",
            "[LightGBM] [Info] Total Bins 1912\n",
            "[LightGBM] [Info] Number of data points in the train set: 6324, number of used features: 18\n",
            "[LightGBM] [Info] Start training from score -0.465082\n",
            "[LightGBM] [Info] Start training from score -3.358480\n",
            "[LightGBM] [Info] Start training from score -1.087291\n",
            "[LightGBM] [Info] Auto-choosing row-wise multi-threading, the overhead of testing was 0.000571 seconds.\n",
            "You can set `force_row_wise=true` to remove the overhead.\n",
            "And if memory is not enough, you can set `force_col_wise=true`.\n",
            "[LightGBM] [Info] Total Bins 1919\n",
            "[LightGBM] [Info] Number of data points in the train set: 6324, number of used features: 18\n",
            "[LightGBM] [Info] Start training from score -0.465082\n",
            "[LightGBM] [Info] Start training from score -3.358480\n",
            "[LightGBM] [Info] Start training from score -1.087291\n"
          ]
        }
      ],
      "source": [
        "clf.fit(train_final, target)\n",
        "pred_final = clf.predict_proba(test_final)"
      ]
    },
    {
      "cell_type": "code",
      "execution_count": 70,
      "metadata": {
        "id": "tiGUsg6v1BiD"
      },
      "outputs": [],
      "source": [
        "def objective(trial):\n",
        "    # Define hyperparameters to optimize for GradientBoostingClassifier\n",
        "    gbr_params = {\n",
        "        'n_estimators': trial.suggest_int('gbr_n_estimators', 10, 100),\n",
        "        'learning_rate': trial.suggest_float('gbr_learning_rate', 0.01, 0.1),\n",
        "        'max_depth': trial.suggest_int('gbr_max_depth', 2, 32, log=True),\n",
        "    }\n",
        "\n",
        "    # Define hyperparameters to optimize for LGBMClassifier\n",
        "    lgbm_params = {\n",
        "        'n_estimators': trial.suggest_int('lgbm_n_estimators', 10, 100),\n",
        "        'learning_rate': trial.suggest_float('lgbm_learning_rate', 0.01, 0.1),\n",
        "        'num_leaves': trial.suggest_int('lgbm_num_leaves', 2, 64),\n",
        "    }\n",
        "\n",
        "    # Define hyperparameters to optimize for MLPClassifier\n",
        "    mlp_params = {\n",
        "        'hidden_layer_sizes': trial.suggest_tuple('mlp_hidden_layer_sizes', (50, 50), (100, 100)),\n",
        "        'alpha': trial.suggest_float('mlp_alpha', 1e-5, 1e-1, log=True),\n",
        "    }\n",
        "\n",
        "    # Create base classifiers with the suggested hyperparameters\n",
        "    gbr_clf = GradientBoostingClassifier(**gbr_params)\n",
        "    lgbm_clf = LGBMClassifier(n_jobs=-1, random_state=1064, **lgbm_params)\n",
        "    mlp_clf = MLPClassifier(**mlp_params)\n",
        "\n",
        "    # Create stacking classifier with base and meta classifiers\n",
        "    estimators = [('gbr', gbr_clf), ('lgbm', lgbm_clf), ('mlp', mlp_clf)]\n",
        "    final_estimator = GradientBoostingClassifier(n_estimators=100, learning_rate=0.1, max_depth=3)  # Fixed values for simplicity\n",
        "    stack_clf = StackingClassifier(estimators=estimators, final_estimator=final_estimator, stack_method='predict_proba')\n",
        "\n",
        "    # Train the stacking classifier\n",
        "    stack_clf.fit(train_final, target)\n",
        "\n",
        "    # Evaluate log loss on the test set\n",
        "    y_proba = stack_clf.predict_proba(train_final)\n",
        "    loss = log_loss(target, y_proba)\n",
        "\n",
        "    return loss"
      ]
    },
    {
      "cell_type": "code",
      "execution_count": 71,
      "metadata": {
        "colab": {
          "base_uri": "https://localhost:8080/",
          "height": 523
        },
        "id": "i-Gs8sO73_eI",
        "outputId": "56ed97f2-beb3-468b-9161-62bc4e3a3b5d"
      },
      "outputs": [
        {
          "name": "stderr",
          "output_type": "stream",
          "text": [
            "[I 2023-12-22 18:54:43,114] A new study created in memory with name: no-name-5d239168-5af5-4065-9ea7-aba41c93b4e0\n",
            "[W 2023-12-22 18:54:43,119] Trial 0 failed with parameters: {'gbr_n_estimators': 65, 'gbr_learning_rate': 0.05139473611593162, 'gbr_max_depth': 13, 'lgbm_n_estimators': 11, 'lgbm_learning_rate': 0.059079592499382216, 'lgbm_num_leaves': 58} because of the following error: AttributeError(\"'Trial' object has no attribute 'suggest_tuple'\").\n",
            "Traceback (most recent call last):\n",
            "  File \"/usr/local/lib/python3.10/dist-packages/optuna/study/_optimize.py\", line 200, in _run_trial\n",
            "    value_or_values = func(trial)\n",
            "  File \"<ipython-input-70-b0c8b766bbde>\", line 18, in objective\n",
            "    'hidden_layer_sizes': trial.suggest_tuple('mlp_hidden_layer_sizes', (50, 50), (100, 100)),\n",
            "AttributeError: 'Trial' object has no attribute 'suggest_tuple'\n",
            "[W 2023-12-22 18:54:43,125] Trial 0 failed with value None.\n"
          ]
        },
        {
          "ename": "AttributeError",
          "evalue": "ignored",
          "output_type": "error",
          "traceback": [
            "\u001b[0;31m---------------------------------------------------------------------------\u001b[0m",
            "\u001b[0;31mAttributeError\u001b[0m                            Traceback (most recent call last)",
            "\u001b[0;32m<ipython-input-71-d4a1830bc818>\u001b[0m in \u001b[0;36m<cell line: 2>\u001b[0;34m()\u001b[0m\n\u001b[1;32m      1\u001b[0m \u001b[0mstudy\u001b[0m \u001b[0;34m=\u001b[0m \u001b[0mcreate_study\u001b[0m\u001b[0;34m(\u001b[0m\u001b[0;34m)\u001b[0m\u001b[0;34m\u001b[0m\u001b[0;34m\u001b[0m\u001b[0m\n\u001b[0;32m----> 2\u001b[0;31m \u001b[0mstudy\u001b[0m\u001b[0;34m.\u001b[0m\u001b[0moptimize\u001b[0m\u001b[0;34m(\u001b[0m\u001b[0mobjective\u001b[0m\u001b[0;34m,\u001b[0m \u001b[0mn_trials\u001b[0m\u001b[0;34m=\u001b[0m\u001b[0;36m50\u001b[0m\u001b[0;34m)\u001b[0m\u001b[0;34m\u001b[0m\u001b[0;34m\u001b[0m\u001b[0m\n\u001b[0m",
            "\u001b[0;32m/usr/local/lib/python3.10/dist-packages/optuna/study/study.py\u001b[0m in \u001b[0;36moptimize\u001b[0;34m(self, func, n_trials, timeout, n_jobs, catch, callbacks, gc_after_trial, show_progress_bar)\u001b[0m\n\u001b[1;32m    449\u001b[0m                 \u001b[0mIf\u001b[0m \u001b[0mnested\u001b[0m \u001b[0minvocation\u001b[0m \u001b[0mof\u001b[0m \u001b[0mthis\u001b[0m \u001b[0mmethod\u001b[0m \u001b[0moccurs\u001b[0m\u001b[0;34m.\u001b[0m\u001b[0;34m\u001b[0m\u001b[0;34m\u001b[0m\u001b[0m\n\u001b[1;32m    450\u001b[0m         \"\"\"\n\u001b[0;32m--> 451\u001b[0;31m         _optimize(\n\u001b[0m\u001b[1;32m    452\u001b[0m             \u001b[0mstudy\u001b[0m\u001b[0;34m=\u001b[0m\u001b[0mself\u001b[0m\u001b[0;34m,\u001b[0m\u001b[0;34m\u001b[0m\u001b[0;34m\u001b[0m\u001b[0m\n\u001b[1;32m    453\u001b[0m             \u001b[0mfunc\u001b[0m\u001b[0;34m=\u001b[0m\u001b[0mfunc\u001b[0m\u001b[0;34m,\u001b[0m\u001b[0;34m\u001b[0m\u001b[0;34m\u001b[0m\u001b[0m\n",
            "\u001b[0;32m/usr/local/lib/python3.10/dist-packages/optuna/study/_optimize.py\u001b[0m in \u001b[0;36m_optimize\u001b[0;34m(study, func, n_trials, timeout, n_jobs, catch, callbacks, gc_after_trial, show_progress_bar)\u001b[0m\n\u001b[1;32m     64\u001b[0m     \u001b[0;32mtry\u001b[0m\u001b[0;34m:\u001b[0m\u001b[0;34m\u001b[0m\u001b[0;34m\u001b[0m\u001b[0m\n\u001b[1;32m     65\u001b[0m         \u001b[0;32mif\u001b[0m \u001b[0mn_jobs\u001b[0m \u001b[0;34m==\u001b[0m \u001b[0;36m1\u001b[0m\u001b[0;34m:\u001b[0m\u001b[0;34m\u001b[0m\u001b[0;34m\u001b[0m\u001b[0m\n\u001b[0;32m---> 66\u001b[0;31m             _optimize_sequential(\n\u001b[0m\u001b[1;32m     67\u001b[0m                 \u001b[0mstudy\u001b[0m\u001b[0;34m,\u001b[0m\u001b[0;34m\u001b[0m\u001b[0;34m\u001b[0m\u001b[0m\n\u001b[1;32m     68\u001b[0m                 \u001b[0mfunc\u001b[0m\u001b[0;34m,\u001b[0m\u001b[0;34m\u001b[0m\u001b[0;34m\u001b[0m\u001b[0m\n",
            "\u001b[0;32m/usr/local/lib/python3.10/dist-packages/optuna/study/_optimize.py\u001b[0m in \u001b[0;36m_optimize_sequential\u001b[0;34m(study, func, n_trials, timeout, catch, callbacks, gc_after_trial, reseed_sampler_rng, time_start, progress_bar)\u001b[0m\n\u001b[1;32m    161\u001b[0m \u001b[0;34m\u001b[0m\u001b[0m\n\u001b[1;32m    162\u001b[0m         \u001b[0;32mtry\u001b[0m\u001b[0;34m:\u001b[0m\u001b[0;34m\u001b[0m\u001b[0;34m\u001b[0m\u001b[0m\n\u001b[0;32m--> 163\u001b[0;31m             \u001b[0mfrozen_trial\u001b[0m \u001b[0;34m=\u001b[0m \u001b[0m_run_trial\u001b[0m\u001b[0;34m(\u001b[0m\u001b[0mstudy\u001b[0m\u001b[0;34m,\u001b[0m \u001b[0mfunc\u001b[0m\u001b[0;34m,\u001b[0m \u001b[0mcatch\u001b[0m\u001b[0;34m)\u001b[0m\u001b[0;34m\u001b[0m\u001b[0;34m\u001b[0m\u001b[0m\n\u001b[0m\u001b[1;32m    164\u001b[0m         \u001b[0;32mfinally\u001b[0m\u001b[0;34m:\u001b[0m\u001b[0;34m\u001b[0m\u001b[0;34m\u001b[0m\u001b[0m\n\u001b[1;32m    165\u001b[0m             \u001b[0;31m# The following line mitigates memory problems that can be occurred in some\u001b[0m\u001b[0;34m\u001b[0m\u001b[0;34m\u001b[0m\u001b[0m\n",
            "\u001b[0;32m/usr/local/lib/python3.10/dist-packages/optuna/study/_optimize.py\u001b[0m in \u001b[0;36m_run_trial\u001b[0;34m(study, func, catch)\u001b[0m\n\u001b[1;32m    249\u001b[0m         \u001b[0;32mand\u001b[0m \u001b[0;32mnot\u001b[0m \u001b[0misinstance\u001b[0m\u001b[0;34m(\u001b[0m\u001b[0mfunc_err\u001b[0m\u001b[0;34m,\u001b[0m \u001b[0mcatch\u001b[0m\u001b[0;34m)\u001b[0m\u001b[0;34m\u001b[0m\u001b[0;34m\u001b[0m\u001b[0m\n\u001b[1;32m    250\u001b[0m     ):\n\u001b[0;32m--> 251\u001b[0;31m         \u001b[0;32mraise\u001b[0m \u001b[0mfunc_err\u001b[0m\u001b[0;34m\u001b[0m\u001b[0;34m\u001b[0m\u001b[0m\n\u001b[0m\u001b[1;32m    252\u001b[0m     \u001b[0;32mreturn\u001b[0m \u001b[0mfrozen_trial\u001b[0m\u001b[0;34m\u001b[0m\u001b[0;34m\u001b[0m\u001b[0m\n\u001b[1;32m    253\u001b[0m \u001b[0;34m\u001b[0m\u001b[0m\n",
            "\u001b[0;32m/usr/local/lib/python3.10/dist-packages/optuna/study/_optimize.py\u001b[0m in \u001b[0;36m_run_trial\u001b[0;34m(study, func, catch)\u001b[0m\n\u001b[1;32m    198\u001b[0m     \u001b[0;32mwith\u001b[0m \u001b[0mget_heartbeat_thread\u001b[0m\u001b[0;34m(\u001b[0m\u001b[0mtrial\u001b[0m\u001b[0;34m.\u001b[0m\u001b[0m_trial_id\u001b[0m\u001b[0;34m,\u001b[0m \u001b[0mstudy\u001b[0m\u001b[0;34m.\u001b[0m\u001b[0m_storage\u001b[0m\u001b[0;34m)\u001b[0m\u001b[0;34m:\u001b[0m\u001b[0;34m\u001b[0m\u001b[0;34m\u001b[0m\u001b[0m\n\u001b[1;32m    199\u001b[0m         \u001b[0;32mtry\u001b[0m\u001b[0;34m:\u001b[0m\u001b[0;34m\u001b[0m\u001b[0;34m\u001b[0m\u001b[0m\n\u001b[0;32m--> 200\u001b[0;31m             \u001b[0mvalue_or_values\u001b[0m \u001b[0;34m=\u001b[0m \u001b[0mfunc\u001b[0m\u001b[0;34m(\u001b[0m\u001b[0mtrial\u001b[0m\u001b[0;34m)\u001b[0m\u001b[0;34m\u001b[0m\u001b[0;34m\u001b[0m\u001b[0m\n\u001b[0m\u001b[1;32m    201\u001b[0m         \u001b[0;32mexcept\u001b[0m \u001b[0mexceptions\u001b[0m\u001b[0;34m.\u001b[0m\u001b[0mTrialPruned\u001b[0m \u001b[0;32mas\u001b[0m \u001b[0me\u001b[0m\u001b[0;34m:\u001b[0m\u001b[0;34m\u001b[0m\u001b[0;34m\u001b[0m\u001b[0m\n\u001b[1;32m    202\u001b[0m             \u001b[0;31m# TODO(mamu): Handle multi-objective cases.\u001b[0m\u001b[0;34m\u001b[0m\u001b[0;34m\u001b[0m\u001b[0m\n",
            "\u001b[0;32m<ipython-input-70-b0c8b766bbde>\u001b[0m in \u001b[0;36mobjective\u001b[0;34m(trial)\u001b[0m\n\u001b[1;32m     16\u001b[0m     \u001b[0;31m# Define hyperparameters to optimize for MLPClassifier\u001b[0m\u001b[0;34m\u001b[0m\u001b[0;34m\u001b[0m\u001b[0m\n\u001b[1;32m     17\u001b[0m     mlp_params = {\n\u001b[0;32m---> 18\u001b[0;31m         \u001b[0;34m'hidden_layer_sizes'\u001b[0m\u001b[0;34m:\u001b[0m \u001b[0mtrial\u001b[0m\u001b[0;34m.\u001b[0m\u001b[0msuggest_tuple\u001b[0m\u001b[0;34m(\u001b[0m\u001b[0;34m'mlp_hidden_layer_sizes'\u001b[0m\u001b[0;34m,\u001b[0m \u001b[0;34m(\u001b[0m\u001b[0;36m50\u001b[0m\u001b[0;34m,\u001b[0m \u001b[0;36m50\u001b[0m\u001b[0;34m)\u001b[0m\u001b[0;34m,\u001b[0m \u001b[0;34m(\u001b[0m\u001b[0;36m100\u001b[0m\u001b[0;34m,\u001b[0m \u001b[0;36m100\u001b[0m\u001b[0;34m)\u001b[0m\u001b[0;34m)\u001b[0m\u001b[0;34m,\u001b[0m\u001b[0;34m\u001b[0m\u001b[0;34m\u001b[0m\u001b[0m\n\u001b[0m\u001b[1;32m     19\u001b[0m         \u001b[0;34m'alpha'\u001b[0m\u001b[0;34m:\u001b[0m \u001b[0mtrial\u001b[0m\u001b[0;34m.\u001b[0m\u001b[0msuggest_float\u001b[0m\u001b[0;34m(\u001b[0m\u001b[0;34m'mlp_alpha'\u001b[0m\u001b[0;34m,\u001b[0m \u001b[0;36m1e-5\u001b[0m\u001b[0;34m,\u001b[0m \u001b[0;36m1e-1\u001b[0m\u001b[0;34m,\u001b[0m \u001b[0mlog\u001b[0m\u001b[0;34m=\u001b[0m\u001b[0;32mTrue\u001b[0m\u001b[0;34m)\u001b[0m\u001b[0;34m,\u001b[0m\u001b[0;34m\u001b[0m\u001b[0;34m\u001b[0m\u001b[0m\n\u001b[1;32m     20\u001b[0m     }\n",
            "\u001b[0;31mAttributeError\u001b[0m: 'Trial' object has no attribute 'suggest_tuple'"
          ]
        }
      ],
      "source": [
        "study = create_study()\n",
        "study.optimize(objective, n_trials=50)"
      ]
    },
    {
      "cell_type": "markdown",
      "metadata": {
        "id": "2aHdM4qVlItB"
      },
      "source": [
        "##Delete Headers"
      ]
    },
    {
      "cell_type": "code",
      "execution_count": 89,
      "metadata": {
        "id": "5B5-ujA8j6dE"
      },
      "outputs": [],
      "source": [
        "pred_final = [pred_final[1:,i] for i in range(3)]"
      ]
    },
    {
      "cell_type": "markdown",
      "metadata": {
        "id": "G41kOrBznqn1"
      },
      "source": [
        "##Fusion"
      ]
    },
    {
      "cell_type": "code",
      "execution_count": 90,
      "metadata": {
        "id": "LcjxiWKuiukN"
      },
      "outputs": [],
      "source": [
        "pred_final = pd.DataFrame(\n",
        "    {\n",
        "        'id': test_ids,\n",
        "        'Status_C': pred_final[0],\n",
        "        'Status_CL': pred_final[1],\n",
        "        'Status_D': pred_final[2]\n",
        "    }\n",
        ")\n"
      ]
    },
    {
      "cell_type": "code",
      "execution_count": null,
      "metadata": {
        "id": "puDy6B-bjKmr"
      },
      "outputs": [],
      "source": [
        "pred_final.head"
      ]
    },
    {
      "cell_type": "code",
      "execution_count": 91,
      "metadata": {
        "id": "O0N4zJwFjOAr"
      },
      "outputs": [],
      "source": [
        "pred_final.to_csv(\"submission.csv\", index=False, header=True)"
      ]
    }
  ],
  "metadata": {
    "colab": {
      "provenance": []
    },
    "kernelspec": {
      "display_name": "Python 3",
      "name": "python3"
    },
    "language_info": {
      "name": "python"
    },
    "widgets": {
      "application/vnd.jupyter.widget-state+json": {
        "160a0210baa841feb48d96fadeb5b09b": {
          "model_module": "@jupyter-widgets/base",
          "model_module_version": "1.2.0",
          "model_name": "LayoutModel",
          "state": {
            "_model_module": "@jupyter-widgets/base",
            "_model_module_version": "1.2.0",
            "_model_name": "LayoutModel",
            "_view_count": null,
            "_view_module": "@jupyter-widgets/base",
            "_view_module_version": "1.2.0",
            "_view_name": "LayoutView",
            "align_content": null,
            "align_items": null,
            "align_self": null,
            "border": null,
            "bottom": null,
            "display": null,
            "flex": null,
            "flex_flow": null,
            "grid_area": null,
            "grid_auto_columns": null,
            "grid_auto_flow": null,
            "grid_auto_rows": null,
            "grid_column": null,
            "grid_gap": null,
            "grid_row": null,
            "grid_template_areas": null,
            "grid_template_columns": null,
            "grid_template_rows": null,
            "height": null,
            "justify_content": null,
            "justify_items": null,
            "left": null,
            "margin": null,
            "max_height": null,
            "max_width": null,
            "min_height": null,
            "min_width": null,
            "object_fit": null,
            "object_position": null,
            "order": null,
            "overflow": null,
            "overflow_x": null,
            "overflow_y": null,
            "padding": null,
            "right": null,
            "top": null,
            "visibility": null,
            "width": null
          }
        },
        "19ed587e685343f3ba19a1bca52b2c7e": {
          "model_module": "@jupyter-widgets/controls",
          "model_module_version": "1.5.0",
          "model_name": "DescriptionStyleModel",
          "state": {
            "_model_module": "@jupyter-widgets/controls",
            "_model_module_version": "1.5.0",
            "_model_name": "DescriptionStyleModel",
            "_view_count": null,
            "_view_module": "@jupyter-widgets/base",
            "_view_module_version": "1.2.0",
            "_view_name": "StyleView",
            "description_width": ""
          }
        },
        "2b45381267d54893b1c79005ea859536": {
          "model_module": "@jupyter-widgets/controls",
          "model_module_version": "1.5.0",
          "model_name": "DescriptionStyleModel",
          "state": {
            "_model_module": "@jupyter-widgets/controls",
            "_model_module_version": "1.5.0",
            "_model_name": "DescriptionStyleModel",
            "_view_count": null,
            "_view_module": "@jupyter-widgets/base",
            "_view_module_version": "1.2.0",
            "_view_name": "StyleView",
            "description_width": ""
          }
        },
        "355b7f04529343d8bffcded906ebab38": {
          "model_module": "@jupyter-widgets/controls",
          "model_module_version": "1.5.0",
          "model_name": "ProgressStyleModel",
          "state": {
            "_model_module": "@jupyter-widgets/controls",
            "_model_module_version": "1.5.0",
            "_model_name": "ProgressStyleModel",
            "_view_count": null,
            "_view_module": "@jupyter-widgets/base",
            "_view_module_version": "1.2.0",
            "_view_name": "StyleView",
            "bar_color": null,
            "description_width": ""
          }
        },
        "3f48d22db242463d9fcaa9195f781b8d": {
          "model_module": "@jupyter-widgets/base",
          "model_module_version": "1.2.0",
          "model_name": "LayoutModel",
          "state": {
            "_model_module": "@jupyter-widgets/base",
            "_model_module_version": "1.2.0",
            "_model_name": "LayoutModel",
            "_view_count": null,
            "_view_module": "@jupyter-widgets/base",
            "_view_module_version": "1.2.0",
            "_view_name": "LayoutView",
            "align_content": null,
            "align_items": null,
            "align_self": null,
            "border": null,
            "bottom": null,
            "display": null,
            "flex": null,
            "flex_flow": null,
            "grid_area": null,
            "grid_auto_columns": null,
            "grid_auto_flow": null,
            "grid_auto_rows": null,
            "grid_column": null,
            "grid_gap": null,
            "grid_row": null,
            "grid_template_areas": null,
            "grid_template_columns": null,
            "grid_template_rows": null,
            "height": null,
            "justify_content": null,
            "justify_items": null,
            "left": null,
            "margin": null,
            "max_height": null,
            "max_width": null,
            "min_height": null,
            "min_width": null,
            "object_fit": null,
            "object_position": null,
            "order": null,
            "overflow": null,
            "overflow_x": null,
            "overflow_y": null,
            "padding": null,
            "right": null,
            "top": null,
            "visibility": null,
            "width": null
          }
        },
        "4c024a270af34851b05d4b3795488239": {
          "model_module": "@jupyter-widgets/controls",
          "model_module_version": "1.5.0",
          "model_name": "HBoxModel",
          "state": {
            "_dom_classes": [],
            "_model_module": "@jupyter-widgets/controls",
            "_model_module_version": "1.5.0",
            "_model_name": "HBoxModel",
            "_view_count": null,
            "_view_module": "@jupyter-widgets/controls",
            "_view_module_version": "1.5.0",
            "_view_name": "HBoxView",
            "box_style": "",
            "children": [
              "IPY_MODEL_ba22ca7b68d044de8fbcac4a7b998a60",
              "IPY_MODEL_c271565f335d4763abc2a621093496d6",
              "IPY_MODEL_80fc9ea669a74b16a398cd734d842461"
            ],
            "layout": "IPY_MODEL_e8429c0742814a82b88571cf4e8d4b07"
          }
        },
        "5d332ad3bd67476aa8e31c7c7116eba3": {
          "model_module": "@jupyter-widgets/base",
          "model_module_version": "1.2.0",
          "model_name": "LayoutModel",
          "state": {
            "_model_module": "@jupyter-widgets/base",
            "_model_module_version": "1.2.0",
            "_model_name": "LayoutModel",
            "_view_count": null,
            "_view_module": "@jupyter-widgets/base",
            "_view_module_version": "1.2.0",
            "_view_name": "LayoutView",
            "align_content": null,
            "align_items": null,
            "align_self": null,
            "border": null,
            "bottom": null,
            "display": null,
            "flex": null,
            "flex_flow": null,
            "grid_area": null,
            "grid_auto_columns": null,
            "grid_auto_flow": null,
            "grid_auto_rows": null,
            "grid_column": null,
            "grid_gap": null,
            "grid_row": null,
            "grid_template_areas": null,
            "grid_template_columns": null,
            "grid_template_rows": null,
            "height": null,
            "justify_content": null,
            "justify_items": null,
            "left": null,
            "margin": null,
            "max_height": null,
            "max_width": null,
            "min_height": null,
            "min_width": null,
            "object_fit": null,
            "object_position": null,
            "order": null,
            "overflow": null,
            "overflow_x": null,
            "overflow_y": null,
            "padding": null,
            "right": null,
            "top": null,
            "visibility": null,
            "width": null
          }
        },
        "80fc9ea669a74b16a398cd734d842461": {
          "model_module": "@jupyter-widgets/controls",
          "model_module_version": "1.5.0",
          "model_name": "HTMLModel",
          "state": {
            "_dom_classes": [],
            "_model_module": "@jupyter-widgets/controls",
            "_model_module_version": "1.5.0",
            "_model_name": "HTMLModel",
            "_view_count": null,
            "_view_module": "@jupyter-widgets/controls",
            "_view_module_version": "1.5.0",
            "_view_name": "HTMLView",
            "description": "",
            "description_tooltip": null,
            "layout": "IPY_MODEL_160a0210baa841feb48d96fadeb5b09b",
            "placeholder": "​",
            "style": "IPY_MODEL_19ed587e685343f3ba19a1bca52b2c7e",
            "value": " 81/81 [01:38&lt;00:00,  1.90it/s]"
          }
        },
        "ba22ca7b68d044de8fbcac4a7b998a60": {
          "model_module": "@jupyter-widgets/controls",
          "model_module_version": "1.5.0",
          "model_name": "HTMLModel",
          "state": {
            "_dom_classes": [],
            "_model_module": "@jupyter-widgets/controls",
            "_model_module_version": "1.5.0",
            "_model_name": "HTMLModel",
            "_view_count": null,
            "_view_module": "@jupyter-widgets/controls",
            "_view_module_version": "1.5.0",
            "_view_name": "HTMLView",
            "description": "",
            "description_tooltip": null,
            "layout": "IPY_MODEL_3f48d22db242463d9fcaa9195f781b8d",
            "placeholder": "​",
            "style": "IPY_MODEL_2b45381267d54893b1c79005ea859536",
            "value": "Processing: 100%"
          }
        },
        "c271565f335d4763abc2a621093496d6": {
          "model_module": "@jupyter-widgets/controls",
          "model_module_version": "1.5.0",
          "model_name": "FloatProgressModel",
          "state": {
            "_dom_classes": [],
            "_model_module": "@jupyter-widgets/controls",
            "_model_module_version": "1.5.0",
            "_model_name": "FloatProgressModel",
            "_view_count": null,
            "_view_module": "@jupyter-widgets/controls",
            "_view_module_version": "1.5.0",
            "_view_name": "ProgressView",
            "bar_style": "",
            "description": "",
            "description_tooltip": null,
            "layout": "IPY_MODEL_5d332ad3bd67476aa8e31c7c7116eba3",
            "max": 81,
            "min": 0,
            "orientation": "horizontal",
            "style": "IPY_MODEL_355b7f04529343d8bffcded906ebab38",
            "value": 81
          }
        },
        "e8429c0742814a82b88571cf4e8d4b07": {
          "model_module": "@jupyter-widgets/base",
          "model_module_version": "1.2.0",
          "model_name": "LayoutModel",
          "state": {
            "_model_module": "@jupyter-widgets/base",
            "_model_module_version": "1.2.0",
            "_model_name": "LayoutModel",
            "_view_count": null,
            "_view_module": "@jupyter-widgets/base",
            "_view_module_version": "1.2.0",
            "_view_name": "LayoutView",
            "align_content": null,
            "align_items": null,
            "align_self": null,
            "border": null,
            "bottom": null,
            "display": null,
            "flex": null,
            "flex_flow": null,
            "grid_area": null,
            "grid_auto_columns": null,
            "grid_auto_flow": null,
            "grid_auto_rows": null,
            "grid_column": null,
            "grid_gap": null,
            "grid_row": null,
            "grid_template_areas": null,
            "grid_template_columns": null,
            "grid_template_rows": null,
            "height": null,
            "justify_content": null,
            "justify_items": null,
            "left": null,
            "margin": null,
            "max_height": null,
            "max_width": null,
            "min_height": null,
            "min_width": null,
            "object_fit": null,
            "object_position": null,
            "order": null,
            "overflow": null,
            "overflow_x": null,
            "overflow_y": null,
            "padding": null,
            "right": null,
            "top": null,
            "visibility": "hidden",
            "width": null
          }
        }
      }
    }
  },
  "nbformat": 4,
  "nbformat_minor": 0
}
